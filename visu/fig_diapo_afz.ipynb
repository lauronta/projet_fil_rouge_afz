{
 "cells": [
  {
   "cell_type": "code",
   "execution_count": null,
   "metadata": {},
   "outputs": [],
   "source": []
  },
  {
   "cell_type": "code",
   "execution_count": 1,
   "metadata": {},
   "outputs": [],
   "source": [
    "import pandas as pd\n",
    "import numpy as np\n",
    "import matplotlib.pyplot as plt"
   ]
  },
  {
   "cell_type": "markdown",
   "metadata": {},
   "source": [
    "# Chargement des données"
   ]
  },
  {
   "cell_type": "code",
   "execution_count": 2,
   "metadata": {},
   "outputs": [],
   "source": [
    "data = pd.read_excel(\"../data/INRA2018_TablesFourrages_etude_prediction_20241121.xlsx\", header=1)"
   ]
  },
  {
   "cell_type": "code",
   "execution_count": 3,
   "metadata": {},
   "outputs": [
    {
     "data": {
      "text/html": [
       "<div>\n",
       "<style scoped>\n",
       "    .dataframe tbody tr th:only-of-type {\n",
       "        vertical-align: middle;\n",
       "    }\n",
       "\n",
       "    .dataframe tbody tr th {\n",
       "        vertical-align: top;\n",
       "    }\n",
       "\n",
       "    .dataframe thead th {\n",
       "        text-align: right;\n",
       "    }\n",
       "</style>\n",
       "<table border=\"1\" class=\"dataframe\">\n",
       "  <thead>\n",
       "    <tr style=\"text-align: right;\">\n",
       "      <th></th>\n",
       "      <th>No</th>\n",
       "      <th>Etat</th>\n",
       "      <th>Code INRA</th>\n",
       "      <th>Libellé 0</th>\n",
       "      <th>Libellé 1</th>\n",
       "      <th>Libellé 2</th>\n",
       "      <th>Libellé 3</th>\n",
       "      <th>Libellé 4</th>\n",
       "      <th>MS</th>\n",
       "      <th>UFL</th>\n",
       "      <th>...</th>\n",
       "      <th>GlyDI</th>\n",
       "      <th>AlaDI</th>\n",
       "      <th>TyrDI</th>\n",
       "      <th>C14:0</th>\n",
       "      <th>C16:0</th>\n",
       "      <th>C16:1</th>\n",
       "      <th>C18:0</th>\n",
       "      <th>C18:1</th>\n",
       "      <th>C18:2</th>\n",
       "      <th>C18:3</th>\n",
       "    </tr>\n",
       "  </thead>\n",
       "  <tbody>\n",
       "    <tr>\n",
       "      <th>0</th>\n",
       "      <td>1</td>\n",
       "      <td>1</td>\n",
       "      <td>FV0010</td>\n",
       "      <td>FOURRAGES VERTS</td>\n",
       "      <td>PRAIRIES PERMANENTES, PLAINE (NORMANDIE)</td>\n",
       "      <td>1er cycle</td>\n",
       "      <td>15-25 avril, déprimage, ST = 172°C</td>\n",
       "      <td>NaN</td>\n",
       "      <td>15.5</td>\n",
       "      <td>1.07</td>\n",
       "      <td>...</td>\n",
       "      <td>6.94</td>\n",
       "      <td>6.87</td>\n",
       "      <td>4.13</td>\n",
       "      <td>1.0</td>\n",
       "      <td>15.68</td>\n",
       "      <td>1.4</td>\n",
       "      <td>2.30</td>\n",
       "      <td>4.04</td>\n",
       "      <td>16.34</td>\n",
       "      <td>54.50</td>\n",
       "    </tr>\n",
       "    <tr>\n",
       "      <th>1</th>\n",
       "      <td>2</td>\n",
       "      <td>1</td>\n",
       "      <td>FV0020</td>\n",
       "      <td>FOURRAGES VERTS</td>\n",
       "      <td>PRAIRIES PERMANENTES, PLAINE (NORMANDIE)</td>\n",
       "      <td>1er cycle</td>\n",
       "      <td>1-10 mai, pâturage, ST = 298°C</td>\n",
       "      <td>NaN</td>\n",
       "      <td>16.6</td>\n",
       "      <td>1.02</td>\n",
       "      <td>...</td>\n",
       "      <td>6.93</td>\n",
       "      <td>6.88</td>\n",
       "      <td>4.14</td>\n",
       "      <td>1.0</td>\n",
       "      <td>16.36</td>\n",
       "      <td>1.4</td>\n",
       "      <td>2.38</td>\n",
       "      <td>4.19</td>\n",
       "      <td>16.89</td>\n",
       "      <td>52.75</td>\n",
       "    </tr>\n",
       "    <tr>\n",
       "      <th>2</th>\n",
       "      <td>3</td>\n",
       "      <td>1</td>\n",
       "      <td>FV0030</td>\n",
       "      <td>FOURRAGES VERTS</td>\n",
       "      <td>PRAIRIES PERMANENTES, PLAINE (NORMANDIE)</td>\n",
       "      <td>1er cycle</td>\n",
       "      <td>15-25 mai, début épiaison, ST = 470°C</td>\n",
       "      <td>NaN</td>\n",
       "      <td>17.2</td>\n",
       "      <td>0.94</td>\n",
       "      <td>...</td>\n",
       "      <td>6.80</td>\n",
       "      <td>6.87</td>\n",
       "      <td>4.10</td>\n",
       "      <td>1.0</td>\n",
       "      <td>17.46</td>\n",
       "      <td>1.4</td>\n",
       "      <td>2.49</td>\n",
       "      <td>4.41</td>\n",
       "      <td>17.65</td>\n",
       "      <td>49.96</td>\n",
       "    </tr>\n",
       "    <tr>\n",
       "      <th>3</th>\n",
       "      <td>4</td>\n",
       "      <td>1</td>\n",
       "      <td>FV0040</td>\n",
       "      <td>FOURRAGES VERTS</td>\n",
       "      <td>PRAIRIES PERMANENTES, PLAINE (NORMANDIE)</td>\n",
       "      <td>1er cycle</td>\n",
       "      <td>1-10 juin, épiaison, ST = 685°C</td>\n",
       "      <td>NaN</td>\n",
       "      <td>20.2</td>\n",
       "      <td>0.84</td>\n",
       "      <td>...</td>\n",
       "      <td>6.81</td>\n",
       "      <td>6.88</td>\n",
       "      <td>4.11</td>\n",
       "      <td>1.0</td>\n",
       "      <td>18.22</td>\n",
       "      <td>1.4</td>\n",
       "      <td>2.56</td>\n",
       "      <td>4.54</td>\n",
       "      <td>18.12</td>\n",
       "      <td>48.04</td>\n",
       "    </tr>\n",
       "    <tr>\n",
       "      <th>4</th>\n",
       "      <td>5</td>\n",
       "      <td>1</td>\n",
       "      <td>FV0050</td>\n",
       "      <td>FOURRAGES VERTS</td>\n",
       "      <td>PRAIRIES PERMANENTES, PLAINE (NORMANDIE)</td>\n",
       "      <td>1er cycle</td>\n",
       "      <td>15-25 juin, floraison, ST = 903°C</td>\n",
       "      <td>NaN</td>\n",
       "      <td>19.2</td>\n",
       "      <td>0.74</td>\n",
       "      <td>...</td>\n",
       "      <td>6.81</td>\n",
       "      <td>6.89</td>\n",
       "      <td>4.12</td>\n",
       "      <td>1.0</td>\n",
       "      <td>18.79</td>\n",
       "      <td>1.4</td>\n",
       "      <td>2.61</td>\n",
       "      <td>4.63</td>\n",
       "      <td>18.46</td>\n",
       "      <td>46.59</td>\n",
       "    </tr>\n",
       "  </tbody>\n",
       "</table>\n",
       "<p>5 rows × 100 columns</p>\n",
       "</div>"
      ],
      "text/plain": [
       "   No  Etat Code INRA        Libellé 0  \\\n",
       "0   1     1    FV0010  FOURRAGES VERTS   \n",
       "1   2     1    FV0020  FOURRAGES VERTS   \n",
       "2   3     1    FV0030  FOURRAGES VERTS   \n",
       "3   4     1    FV0040  FOURRAGES VERTS   \n",
       "4   5     1    FV0050  FOURRAGES VERTS   \n",
       "\n",
       "                                  Libellé 1  Libellé 2  \\\n",
       "0  PRAIRIES PERMANENTES, PLAINE (NORMANDIE)  1er cycle   \n",
       "1  PRAIRIES PERMANENTES, PLAINE (NORMANDIE)  1er cycle   \n",
       "2  PRAIRIES PERMANENTES, PLAINE (NORMANDIE)  1er cycle   \n",
       "3  PRAIRIES PERMANENTES, PLAINE (NORMANDIE)  1er cycle   \n",
       "4  PRAIRIES PERMANENTES, PLAINE (NORMANDIE)  1er cycle   \n",
       "\n",
       "                               Libellé 3 Libellé 4    MS   UFL  ...  GlyDI  \\\n",
       "0     15-25 avril, déprimage, ST = 172°C       NaN  15.5  1.07  ...   6.94   \n",
       "1         1-10 mai, pâturage, ST = 298°C       NaN  16.6  1.02  ...   6.93   \n",
       "2  15-25 mai, début épiaison, ST = 470°C       NaN  17.2  0.94  ...   6.80   \n",
       "3        1-10 juin, épiaison, ST = 685°C       NaN  20.2  0.84  ...   6.81   \n",
       "4      15-25 juin, floraison, ST = 903°C       NaN  19.2  0.74  ...   6.81   \n",
       "\n",
       "   AlaDI  TyrDI  C14:0  C16:0  C16:1  C18:0  C18:1  C18:2  C18:3  \n",
       "0   6.87   4.13    1.0  15.68    1.4   2.30   4.04  16.34  54.50  \n",
       "1   6.88   4.14    1.0  16.36    1.4   2.38   4.19  16.89  52.75  \n",
       "2   6.87   4.10    1.0  17.46    1.4   2.49   4.41  17.65  49.96  \n",
       "3   6.88   4.11    1.0  18.22    1.4   2.56   4.54  18.12  48.04  \n",
       "4   6.89   4.12    1.0  18.79    1.4   2.61   4.63  18.46  46.59  \n",
       "\n",
       "[5 rows x 100 columns]"
      ]
     },
     "execution_count": 3,
     "metadata": {},
     "output_type": "execute_result"
    }
   ],
   "source": [
    "data.head()"
   ]
  },
  {
   "cell_type": "markdown",
   "metadata": {},
   "source": [
    "# Fig.1 Répartition des données de fourrage"
   ]
  },
  {
   "cell_type": "code",
   "execution_count": null,
   "metadata": {},
   "outputs": [
    {
     "data": {
      "image/png": "[encoded data removed]",
      "text/plain": [
       "<Figure size 640x480 with 1 Axes>"
      ]
     },
     "metadata": {},
     "output_type": "display_data"
    },
    {
     "data": {
      "text/plain": [
       "<Figure size 640x480 with 0 Axes>"
      ]
     },
     "metadata": {},
     "output_type": "display_data"
    }
   ],
   "source": [
    "hist = data['Libellé 0'].value_counts()\n",
    "\n",
    "plt.bar(hist.index,hist.values)\n",
    "plt.xticks(ha='right',rotation=45,wrap=True, fontsize=12)\n",
    "plt.yticks(fontsize=12)\n",
    "plt.tight_layout()\n",
    "plt.show()\n",
    "\n",
    "fig.savefig('fig1.png')"
   ]
  },
  {
   "cell_type": "markdown",
   "metadata": {},
   "source": [
    "# Fig. 2 - Valeurs manquantes"
   ]
  },
  {
   "cell_type": "code",
   "execution_count": null,
   "metadata": {},
   "outputs": [
    {
     "data": {
      "image/png": "[encoded data removed]",
      "text/plain": [
       "<Figure size 640x480 with 1 Axes>"
      ]
     },
     "metadata": {},
     "output_type": "display_data"
    },
    {
     "data": {
      "text/plain": [
       "<Figure size 1500x1500 with 0 Axes>"
      ]
     },
     "metadata": {},
     "output_type": "display_data"
    }
   ],
   "source": [
    "from matplotlib import ticker\n",
    "\n",
    "hist = data.isna().sum()/data.shape[0]\n",
    "cols = ['ADF', 'EE']\n",
    "hist = hist.loc[cols]\n",
    "\n",
    "\n",
    "fig, ax = plt.subplots()\n",
    "fig = plt.figure(figsize=(15,15))\n",
    "\n",
    "ax.bar(hist.index, hist.values)\n",
    "\n",
    "ax.yaxis.set_major_formatter(ticker.PercentFormatter(xmax=1, decimals=2))\n",
    "ax.tick_params(labelsize=13)\n",
    "\n",
    "\n",
    "fig.savefig('fig2.png')"
   ]
  },
  {
   "cell_type": "code",
   "execution_count": null,
   "metadata": {},
   "outputs": [],
   "source": []
  }
 ],
 "metadata": {
  "kernelspec": {
   "display_name": "pfr_fourrage",
   "language": "python",
   "name": "python3"
  },
  "language_info": {
   "codemirror_mode": {
    "name": "ipython",
    "version": 3
   },
   "file_extension": ".py",
   "mimetype": "text/x-python",
   "name": "python",
   "nbconvert_exporter": "python",
   "pygments_lexer": "ipython3",
   "version": "3.12.9"
  }
 },
 "nbformat": 4,
 "nbformat_minor": 2
}
