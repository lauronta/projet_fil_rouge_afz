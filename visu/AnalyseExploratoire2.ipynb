{
 "cells": [
  {
   "cell_type": "markdown",
   "metadata": {},
   "source": [
    "# Import des bibliothèques"
   ]
  },
  {
   "cell_type": "code",
   "execution_count": 56,
   "metadata": {},
   "outputs": [],
   "source": [
    "import pandas as pd\n",
    "import numpy as np\n",
    "import matplotlib\n",
    "import matplotlib.pyplot as plt\n",
    "import seaborn as sns\n",
    "\n",
    "import prince as pr\n",
    "from sklearn.preprocessing import StandardScaler\n",
    "from sklearn.preprocessing import OneHotEncoder\n",
    "from sklearn.decomposition import PCA\n",
    "from sklearn.manifold import TSNE\n",
    "from sklearn.model_selection import cross_val_score, KFold"
   ]
  },
  {
   "cell_type": "code",
   "execution_count": 2,
   "metadata": {},
   "outputs": [],
   "source": [
    "from sklearn.model_selection import train_test_split\n",
    "from sklearn.linear_model import LinearRegression\n",
    "from sklearn.linear_model import LogisticRegression\n",
    "from sklearn.linear_model import ElasticNet\n",
    "from sklearn.linear_model import Ridge\n",
    "from sklearn.metrics import mean_absolute_percentage_error\n",
    "from sklearn.ensemble import RandomForestRegressor, GradientBoostingRegressor\n",
    "from sklearn.svm import SVR\n",
    "from sklearn.neighbors import KNeighborsRegressor\n",
    "from sklearn.tree import DecisionTreeRegressor\n",
    "from sklearn.neural_network import MLPRegressor\n",
    "from xgboost import XGBRegressor\n",
    "import xgboost as xgb\n",
    "\n",
    "from sklearn.metrics import mean_squared_error\n",
    "from sklearn.metrics import mean_absolute_error\n",
    "from sklearn.metrics import max_error\n",
    "from sklearn.metrics import r2_score"
   ]
  },
  {
   "cell_type": "markdown",
   "metadata": {},
   "source": [
    "# Import des données"
   ]
  },
  {
   "cell_type": "code",
   "execution_count": 3,
   "metadata": {},
   "outputs": [],
   "source": [
    "fourrage = pd.read_excel(\"INRA2018_TablesFourrages_etude_prediction_20241121.xlsx\", engine=\"openpyxl\", header = 1)"
   ]
  },
  {
   "cell_type": "code",
   "execution_count": 4,
   "metadata": {},
   "outputs": [
    {
     "data": {
      "text/html": [
       "<div>\n",
       "<style scoped>\n",
       "    .dataframe tbody tr th:only-of-type {\n",
       "        vertical-align: middle;\n",
       "    }\n",
       "\n",
       "    .dataframe tbody tr th {\n",
       "        vertical-align: top;\n",
       "    }\n",
       "\n",
       "    .dataframe thead th {\n",
       "        text-align: right;\n",
       "    }\n",
       "</style>\n",
       "<table border=\"1\" class=\"dataframe\">\n",
       "  <thead>\n",
       "    <tr style=\"text-align: right;\">\n",
       "      <th></th>\n",
       "      <th>No</th>\n",
       "      <th>Etat</th>\n",
       "      <th>Code INRA</th>\n",
       "      <th>Libellé 0</th>\n",
       "      <th>Libellé 1</th>\n",
       "      <th>Libellé 2</th>\n",
       "      <th>Libellé 3</th>\n",
       "      <th>Libellé 4</th>\n",
       "      <th>MS</th>\n",
       "      <th>UFL</th>\n",
       "      <th>...</th>\n",
       "      <th>GlyDI</th>\n",
       "      <th>AlaDI</th>\n",
       "      <th>TyrDI</th>\n",
       "      <th>C14:0</th>\n",
       "      <th>C16:0</th>\n",
       "      <th>C16:1</th>\n",
       "      <th>C18:0</th>\n",
       "      <th>C18:1</th>\n",
       "      <th>C18:2</th>\n",
       "      <th>C18:3</th>\n",
       "    </tr>\n",
       "  </thead>\n",
       "  <tbody>\n",
       "    <tr>\n",
       "      <th>0</th>\n",
       "      <td>1</td>\n",
       "      <td>1</td>\n",
       "      <td>FV0010</td>\n",
       "      <td>FOURRAGES VERTS</td>\n",
       "      <td>PRAIRIES PERMANENTES, PLAINE (NORMANDIE)</td>\n",
       "      <td>1er cycle</td>\n",
       "      <td>15-25 avril, déprimage, ST = 172°C</td>\n",
       "      <td>NaN</td>\n",
       "      <td>15.5</td>\n",
       "      <td>1.07</td>\n",
       "      <td>...</td>\n",
       "      <td>6.94</td>\n",
       "      <td>6.87</td>\n",
       "      <td>4.13</td>\n",
       "      <td>1.0</td>\n",
       "      <td>15.68</td>\n",
       "      <td>1.4</td>\n",
       "      <td>2.30</td>\n",
       "      <td>4.04</td>\n",
       "      <td>16.34</td>\n",
       "      <td>54.50</td>\n",
       "    </tr>\n",
       "    <tr>\n",
       "      <th>1</th>\n",
       "      <td>2</td>\n",
       "      <td>1</td>\n",
       "      <td>FV0020</td>\n",
       "      <td>FOURRAGES VERTS</td>\n",
       "      <td>PRAIRIES PERMANENTES, PLAINE (NORMANDIE)</td>\n",
       "      <td>1er cycle</td>\n",
       "      <td>1-10 mai, pâturage, ST = 298°C</td>\n",
       "      <td>NaN</td>\n",
       "      <td>16.6</td>\n",
       "      <td>1.02</td>\n",
       "      <td>...</td>\n",
       "      <td>6.93</td>\n",
       "      <td>6.88</td>\n",
       "      <td>4.14</td>\n",
       "      <td>1.0</td>\n",
       "      <td>16.36</td>\n",
       "      <td>1.4</td>\n",
       "      <td>2.38</td>\n",
       "      <td>4.19</td>\n",
       "      <td>16.89</td>\n",
       "      <td>52.75</td>\n",
       "    </tr>\n",
       "    <tr>\n",
       "      <th>2</th>\n",
       "      <td>3</td>\n",
       "      <td>1</td>\n",
       "      <td>FV0030</td>\n",
       "      <td>FOURRAGES VERTS</td>\n",
       "      <td>PRAIRIES PERMANENTES, PLAINE (NORMANDIE)</td>\n",
       "      <td>1er cycle</td>\n",
       "      <td>15-25 mai, début épiaison, ST = 470°C</td>\n",
       "      <td>NaN</td>\n",
       "      <td>17.2</td>\n",
       "      <td>0.94</td>\n",
       "      <td>...</td>\n",
       "      <td>6.80</td>\n",
       "      <td>6.87</td>\n",
       "      <td>4.10</td>\n",
       "      <td>1.0</td>\n",
       "      <td>17.46</td>\n",
       "      <td>1.4</td>\n",
       "      <td>2.49</td>\n",
       "      <td>4.41</td>\n",
       "      <td>17.65</td>\n",
       "      <td>49.96</td>\n",
       "    </tr>\n",
       "  </tbody>\n",
       "</table>\n",
       "<p>3 rows × 100 columns</p>\n",
       "</div>"
      ],
      "text/plain": [
       "   No  Etat Code INRA        Libellé 0  \\\n",
       "0   1     1    FV0010  FOURRAGES VERTS   \n",
       "1   2     1    FV0020  FOURRAGES VERTS   \n",
       "2   3     1    FV0030  FOURRAGES VERTS   \n",
       "\n",
       "                                  Libellé 1  Libellé 2  \\\n",
       "0  PRAIRIES PERMANENTES, PLAINE (NORMANDIE)  1er cycle   \n",
       "1  PRAIRIES PERMANENTES, PLAINE (NORMANDIE)  1er cycle   \n",
       "2  PRAIRIES PERMANENTES, PLAINE (NORMANDIE)  1er cycle   \n",
       "\n",
       "                               Libellé 3 Libellé 4    MS   UFL  ...  GlyDI  \\\n",
       "0     15-25 avril, déprimage, ST = 172°C       NaN  15.5  1.07  ...   6.94   \n",
       "1         1-10 mai, pâturage, ST = 298°C       NaN  16.6  1.02  ...   6.93   \n",
       "2  15-25 mai, début épiaison, ST = 470°C       NaN  17.2  0.94  ...   6.80   \n",
       "\n",
       "   AlaDI  TyrDI  C14:0  C16:0  C16:1  C18:0  C18:1  C18:2  C18:3  \n",
       "0   6.87   4.13    1.0  15.68    1.4   2.30   4.04  16.34  54.50  \n",
       "1   6.88   4.14    1.0  16.36    1.4   2.38   4.19  16.89  52.75  \n",
       "2   6.87   4.10    1.0  17.46    1.4   2.49   4.41  17.65  49.96  \n",
       "\n",
       "[3 rows x 100 columns]"
      ]
     },
     "execution_count": 4,
     "metadata": {},
     "output_type": "execute_result"
    }
   ],
   "source": [
    "fourrage.head(3)"
   ]
  },
  {
   "cell_type": "markdown",
   "metadata": {},
   "source": [
    "# Définition des variables"
   ]
  },
  {
   "cell_type": "code",
   "execution_count": 5,
   "metadata": {},
   "outputs": [],
   "source": [
    "target = fourrage[[\"UFL\", \"UFV\", \"PDI\", \"BPR\"]]\n",
    "num_features = fourrage[[\"MM\", \"MAT\", \"CB\", \"NDF\", \"ADF\", \"EE\"]]"
   ]
  },
  {
   "cell_type": "markdown",
   "metadata": {},
   "source": [
    "# Arrangement des colonnes"
   ]
  },
  {
   "cell_type": "markdown",
   "metadata": {},
   "source": [
    "## Arangement de libellé 1 en 3 sous colonnes (création de deux sous colonnes)"
   ]
  },
  {
   "cell_type": "code",
   "execution_count": 6,
   "metadata": {},
   "outputs": [],
   "source": [
    "fourrage[[\"Libellé 1\", \"Libellé 1-2\"]] = fourrage[\"Libellé 1\"].str.split(\",\", n=1, expand=True)"
   ]
  },
  {
   "cell_type": "code",
   "execution_count": 7,
   "metadata": {},
   "outputs": [
    {
     "name": "stdout",
     "output_type": "stream",
     "text": [
      "['No', 'Etat', 'Code INRA', 'Libellé 0', 'Libellé 1', 'Libellé 2', 'Libellé 3', 'Libellé 4', 'MS', 'UFL', 'UFV', 'PDIA', 'PDI', 'BPR', 'LysDI', 'MetDI', 'HisDI', 'NIref', 'UEM', 'UEL', 'UEB', 'MO', 'MM', 'dMO', 'MAT', 'dMA', 'CB', 'dCB', 'NDF', 'dNDF', 'ADF', 'dADF', 'AG', 'EE', 'P', 'Pabs', 'Ca', 'Caabs', 'Mg', 'BE', 'EB', 'dE', 'EM', 'DT_N', 'DT6_N', 'dr_N', 'S', 'Na', 'K', 'Cl', 'BACA', 'Cu', 'Zn', 'Mn', 'Co', 'Se', 'I', 'VitA', 'VitD', 'VitE', 'LysBP', 'HisBP', 'ArgBP', 'ThrBP', 'ValBP', 'MetBP', 'IleBP', 'LeuBP', 'PheBP', 'AspBP', 'SerBP', 'GluBP', 'ProBP', 'GlyBP', 'AlaBP', 'TyrBP', 'CysTrpBP', 'LysDI.1', 'HisDI.1', 'ArgDI', 'ThrDI', 'ValDI', 'MetDI.1', 'IleDI', 'LeuDI', 'PheDI', 'AspDI', 'SerDI', 'GluDI', 'ProDI', 'GlyDI', 'AlaDI', 'TyrDI', 'C14:0', 'C16:0', 'C16:1', 'C18:0', 'C18:1', 'C18:2', 'C18:3', 'Libellé 1-2']\n"
     ]
    }
   ],
   "source": [
    "cols = fourrage.columns.tolist()\n",
    "print(cols)\n",
    "cols.insert(cols.index('Libellé 1') + 1, cols.pop(cols.index('Libellé 1-2')))\n",
    "fourrage = fourrage[cols]"
   ]
  },
  {
   "cell_type": "code",
   "execution_count": 8,
   "metadata": {},
   "outputs": [
    {
     "data": {
      "text/html": [
       "<div>\n",
       "<style scoped>\n",
       "    .dataframe tbody tr th:only-of-type {\n",
       "        vertical-align: middle;\n",
       "    }\n",
       "\n",
       "    .dataframe tbody tr th {\n",
       "        vertical-align: top;\n",
       "    }\n",
       "\n",
       "    .dataframe thead th {\n",
       "        text-align: right;\n",
       "    }\n",
       "</style>\n",
       "<table border=\"1\" class=\"dataframe\">\n",
       "  <thead>\n",
       "    <tr style=\"text-align: right;\">\n",
       "      <th></th>\n",
       "      <th>No</th>\n",
       "      <th>Etat</th>\n",
       "      <th>Code INRA</th>\n",
       "      <th>Libellé 0</th>\n",
       "      <th>Libellé 1</th>\n",
       "      <th>Libellé 1-2</th>\n",
       "      <th>Libellé 2</th>\n",
       "      <th>Libellé 3</th>\n",
       "      <th>Libellé 4</th>\n",
       "      <th>MS</th>\n",
       "      <th>...</th>\n",
       "      <th>GlyDI</th>\n",
       "      <th>AlaDI</th>\n",
       "      <th>TyrDI</th>\n",
       "      <th>C14:0</th>\n",
       "      <th>C16:0</th>\n",
       "      <th>C16:1</th>\n",
       "      <th>C18:0</th>\n",
       "      <th>C18:1</th>\n",
       "      <th>C18:2</th>\n",
       "      <th>C18:3</th>\n",
       "    </tr>\n",
       "  </thead>\n",
       "  <tbody>\n",
       "    <tr>\n",
       "      <th>0</th>\n",
       "      <td>1</td>\n",
       "      <td>1</td>\n",
       "      <td>FV0010</td>\n",
       "      <td>FOURRAGES VERTS</td>\n",
       "      <td>PRAIRIES PERMANENTES</td>\n",
       "      <td>PLAINE (NORMANDIE)</td>\n",
       "      <td>1er cycle</td>\n",
       "      <td>15-25 avril, déprimage, ST = 172°C</td>\n",
       "      <td>NaN</td>\n",
       "      <td>15.5</td>\n",
       "      <td>...</td>\n",
       "      <td>6.94</td>\n",
       "      <td>6.87</td>\n",
       "      <td>4.13</td>\n",
       "      <td>1.0</td>\n",
       "      <td>15.68</td>\n",
       "      <td>1.4</td>\n",
       "      <td>2.3</td>\n",
       "      <td>4.04</td>\n",
       "      <td>16.34</td>\n",
       "      <td>54.5</td>\n",
       "    </tr>\n",
       "  </tbody>\n",
       "</table>\n",
       "<p>1 rows × 101 columns</p>\n",
       "</div>"
      ],
      "text/plain": [
       "   No  Etat Code INRA        Libellé 0             Libellé 1  \\\n",
       "0   1     1    FV0010  FOURRAGES VERTS  PRAIRIES PERMANENTES   \n",
       "\n",
       "           Libellé 1-2  Libellé 2                           Libellé 3  \\\n",
       "0   PLAINE (NORMANDIE)  1er cycle  15-25 avril, déprimage, ST = 172°C   \n",
       "\n",
       "  Libellé 4    MS  ...  GlyDI  AlaDI  TyrDI  C14:0  C16:0  C16:1  C18:0  \\\n",
       "0       NaN  15.5  ...   6.94   6.87   4.13    1.0  15.68    1.4    2.3   \n",
       "\n",
       "   C18:1  C18:2  C18:3  \n",
       "0   4.04  16.34   54.5  \n",
       "\n",
       "[1 rows x 101 columns]"
      ]
     },
     "execution_count": 8,
     "metadata": {},
     "output_type": "execute_result"
    }
   ],
   "source": [
    "fourrage.head(1)"
   ]
  },
  {
   "cell_type": "code",
   "execution_count": 9,
   "metadata": {},
   "outputs": [],
   "source": [
    "fourrage[[\"Libellé 1-2\", \"Libellé 1-3\"]] = fourrage[\"Libellé 1-2\"].str.split(\",\", n=1, expand=True)"
   ]
  },
  {
   "cell_type": "code",
   "execution_count": 10,
   "metadata": {},
   "outputs": [
    {
     "name": "stdout",
     "output_type": "stream",
     "text": [
      "['No', 'Etat', 'Code INRA', 'Libellé 0', 'Libellé 1', 'Libellé 1-2', 'Libellé 2', 'Libellé 3', 'Libellé 4', 'MS', 'UFL', 'UFV', 'PDIA', 'PDI', 'BPR', 'LysDI', 'MetDI', 'HisDI', 'NIref', 'UEM', 'UEL', 'UEB', 'MO', 'MM', 'dMO', 'MAT', 'dMA', 'CB', 'dCB', 'NDF', 'dNDF', 'ADF', 'dADF', 'AG', 'EE', 'P', 'Pabs', 'Ca', 'Caabs', 'Mg', 'BE', 'EB', 'dE', 'EM', 'DT_N', 'DT6_N', 'dr_N', 'S', 'Na', 'K', 'Cl', 'BACA', 'Cu', 'Zn', 'Mn', 'Co', 'Se', 'I', 'VitA', 'VitD', 'VitE', 'LysBP', 'HisBP', 'ArgBP', 'ThrBP', 'ValBP', 'MetBP', 'IleBP', 'LeuBP', 'PheBP', 'AspBP', 'SerBP', 'GluBP', 'ProBP', 'GlyBP', 'AlaBP', 'TyrBP', 'CysTrpBP', 'LysDI.1', 'HisDI.1', 'ArgDI', 'ThrDI', 'ValDI', 'MetDI.1', 'IleDI', 'LeuDI', 'PheDI', 'AspDI', 'SerDI', 'GluDI', 'ProDI', 'GlyDI', 'AlaDI', 'TyrDI', 'C14:0', 'C16:0', 'C16:1', 'C18:0', 'C18:1', 'C18:2', 'C18:3', 'Libellé 1-3']\n"
     ]
    }
   ],
   "source": [
    "cols = fourrage.columns.tolist()\n",
    "print(cols)\n",
    "cols.insert(cols.index('Libellé 1-2') + 1, cols.pop(cols.index('Libellé 1-3')))\n",
    "fourrage = fourrage[cols]"
   ]
  },
  {
   "cell_type": "markdown",
   "metadata": {},
   "source": [
    "## Arrangement de libellé 2 : split en 3 colonnes"
   ]
  },
  {
   "cell_type": "code",
   "execution_count": 11,
   "metadata": {},
   "outputs": [],
   "source": [
    "fourrage[[\"Libellé 2\", \"Libellé 2-1\"]] = fourrage[\"Libellé 2\"].str.split(\",\", n=1, expand=True)"
   ]
  },
  {
   "cell_type": "code",
   "execution_count": 12,
   "metadata": {},
   "outputs": [
    {
     "name": "stdout",
     "output_type": "stream",
     "text": [
      "['No', 'Etat', 'Code INRA', 'Libellé 0', 'Libellé 1', 'Libellé 1-2', 'Libellé 1-3', 'Libellé 2', 'Libellé 3', 'Libellé 4', 'MS', 'UFL', 'UFV', 'PDIA', 'PDI', 'BPR', 'LysDI', 'MetDI', 'HisDI', 'NIref', 'UEM', 'UEL', 'UEB', 'MO', 'MM', 'dMO', 'MAT', 'dMA', 'CB', 'dCB', 'NDF', 'dNDF', 'ADF', 'dADF', 'AG', 'EE', 'P', 'Pabs', 'Ca', 'Caabs', 'Mg', 'BE', 'EB', 'dE', 'EM', 'DT_N', 'DT6_N', 'dr_N', 'S', 'Na', 'K', 'Cl', 'BACA', 'Cu', 'Zn', 'Mn', 'Co', 'Se', 'I', 'VitA', 'VitD', 'VitE', 'LysBP', 'HisBP', 'ArgBP', 'ThrBP', 'ValBP', 'MetBP', 'IleBP', 'LeuBP', 'PheBP', 'AspBP', 'SerBP', 'GluBP', 'ProBP', 'GlyBP', 'AlaBP', 'TyrBP', 'CysTrpBP', 'LysDI.1', 'HisDI.1', 'ArgDI', 'ThrDI', 'ValDI', 'MetDI.1', 'IleDI', 'LeuDI', 'PheDI', 'AspDI', 'SerDI', 'GluDI', 'ProDI', 'GlyDI', 'AlaDI', 'TyrDI', 'C14:0', 'C16:0', 'C16:1', 'C18:0', 'C18:1', 'C18:2', 'C18:3', 'Libellé 2-1']\n"
     ]
    }
   ],
   "source": [
    "cols = fourrage.columns.tolist()\n",
    "print(cols)\n",
    "cols.insert(cols.index('Libellé 2') + 1, cols.pop(cols.index('Libellé 2-1')))\n",
    "fourrage = fourrage[cols]"
   ]
  },
  {
   "cell_type": "code",
   "execution_count": 13,
   "metadata": {},
   "outputs": [
    {
     "data": {
      "text/plain": [
       "True"
      ]
     },
     "execution_count": 13,
     "metadata": {},
     "output_type": "execute_result"
    }
   ],
   "source": [
    "fourrage['Libellé 2-1'].str.contains(',', na=False).any()"
   ]
  },
  {
   "cell_type": "code",
   "execution_count": 14,
   "metadata": {},
   "outputs": [],
   "source": [
    "fourrage[[\"Libellé 2-1\", \"Libellé 2-2\"]] = fourrage[\"Libellé 2-1\"].str.split(\",\", n=1, expand=True)"
   ]
  },
  {
   "cell_type": "code",
   "execution_count": 15,
   "metadata": {},
   "outputs": [
    {
     "name": "stdout",
     "output_type": "stream",
     "text": [
      "['No', 'Etat', 'Code INRA', 'Libellé 0', 'Libellé 1', 'Libellé 1-2', 'Libellé 1-3', 'Libellé 2', 'Libellé 2-1', 'Libellé 3', 'Libellé 4', 'MS', 'UFL', 'UFV', 'PDIA', 'PDI', 'BPR', 'LysDI', 'MetDI', 'HisDI', 'NIref', 'UEM', 'UEL', 'UEB', 'MO', 'MM', 'dMO', 'MAT', 'dMA', 'CB', 'dCB', 'NDF', 'dNDF', 'ADF', 'dADF', 'AG', 'EE', 'P', 'Pabs', 'Ca', 'Caabs', 'Mg', 'BE', 'EB', 'dE', 'EM', 'DT_N', 'DT6_N', 'dr_N', 'S', 'Na', 'K', 'Cl', 'BACA', 'Cu', 'Zn', 'Mn', 'Co', 'Se', 'I', 'VitA', 'VitD', 'VitE', 'LysBP', 'HisBP', 'ArgBP', 'ThrBP', 'ValBP', 'MetBP', 'IleBP', 'LeuBP', 'PheBP', 'AspBP', 'SerBP', 'GluBP', 'ProBP', 'GlyBP', 'AlaBP', 'TyrBP', 'CysTrpBP', 'LysDI.1', 'HisDI.1', 'ArgDI', 'ThrDI', 'ValDI', 'MetDI.1', 'IleDI', 'LeuDI', 'PheDI', 'AspDI', 'SerDI', 'GluDI', 'ProDI', 'GlyDI', 'AlaDI', 'TyrDI', 'C14:0', 'C16:0', 'C16:1', 'C18:0', 'C18:1', 'C18:2', 'C18:3', 'Libellé 2-2']\n"
     ]
    }
   ],
   "source": [
    "cols = fourrage.columns.tolist()\n",
    "print(cols)\n",
    "cols.insert(cols.index('Libellé 2-1') + 1, cols.pop(cols.index('Libellé 2-2')))\n",
    "fourrage = fourrage[cols]"
   ]
  },
  {
   "cell_type": "code",
   "execution_count": 16,
   "metadata": {},
   "outputs": [
    {
     "data": {
      "text/plain": [
       "False"
      ]
     },
     "execution_count": 16,
     "metadata": {},
     "output_type": "execute_result"
    }
   ],
   "source": [
    "fourrage['Libellé 2-1'].str.contains(',', na=False).any()"
   ]
  },
  {
   "cell_type": "markdown",
   "metadata": {},
   "source": [
    "## Arrangement de libellé 3 : division en 3 colonnes"
   ]
  },
  {
   "cell_type": "code",
   "execution_count": 17,
   "metadata": {},
   "outputs": [
    {
     "data": {
      "text/plain": [
       "True"
      ]
     },
     "execution_count": 17,
     "metadata": {},
     "output_type": "execute_result"
    }
   ],
   "source": [
    "fourrage['Libellé 3'].str.contains(',', na=False).any()"
   ]
  },
  {
   "cell_type": "code",
   "execution_count": 18,
   "metadata": {},
   "outputs": [],
   "source": [
    "fourrage[[\"Libellé 3\", \"Libellé 3-1\"]] = fourrage[\"Libellé 3\"].str.split(\",\", n=1, expand=True)"
   ]
  },
  {
   "cell_type": "code",
   "execution_count": 19,
   "metadata": {},
   "outputs": [
    {
     "name": "stdout",
     "output_type": "stream",
     "text": [
      "['No', 'Etat', 'Code INRA', 'Libellé 0', 'Libellé 1', 'Libellé 1-2', 'Libellé 1-3', 'Libellé 2', 'Libellé 2-1', 'Libellé 2-2', 'Libellé 3', 'Libellé 4', 'MS', 'UFL', 'UFV', 'PDIA', 'PDI', 'BPR', 'LysDI', 'MetDI', 'HisDI', 'NIref', 'UEM', 'UEL', 'UEB', 'MO', 'MM', 'dMO', 'MAT', 'dMA', 'CB', 'dCB', 'NDF', 'dNDF', 'ADF', 'dADF', 'AG', 'EE', 'P', 'Pabs', 'Ca', 'Caabs', 'Mg', 'BE', 'EB', 'dE', 'EM', 'DT_N', 'DT6_N', 'dr_N', 'S', 'Na', 'K', 'Cl', 'BACA', 'Cu', 'Zn', 'Mn', 'Co', 'Se', 'I', 'VitA', 'VitD', 'VitE', 'LysBP', 'HisBP', 'ArgBP', 'ThrBP', 'ValBP', 'MetBP', 'IleBP', 'LeuBP', 'PheBP', 'AspBP', 'SerBP', 'GluBP', 'ProBP', 'GlyBP', 'AlaBP', 'TyrBP', 'CysTrpBP', 'LysDI.1', 'HisDI.1', 'ArgDI', 'ThrDI', 'ValDI', 'MetDI.1', 'IleDI', 'LeuDI', 'PheDI', 'AspDI', 'SerDI', 'GluDI', 'ProDI', 'GlyDI', 'AlaDI', 'TyrDI', 'C14:0', 'C16:0', 'C16:1', 'C18:0', 'C18:1', 'C18:2', 'C18:3', 'Libellé 3-1']\n"
     ]
    }
   ],
   "source": [
    "cols = fourrage.columns.tolist()\n",
    "print(cols)\n",
    "cols.insert(cols.index('Libellé 3') + 1, cols.pop(cols.index('Libellé 3-1')))\n",
    "fourrage = fourrage[cols]"
   ]
  },
  {
   "cell_type": "code",
   "execution_count": 20,
   "metadata": {},
   "outputs": [
    {
     "data": {
      "text/plain": [
       "True"
      ]
     },
     "execution_count": 20,
     "metadata": {},
     "output_type": "execute_result"
    }
   ],
   "source": [
    "fourrage['Libellé 3-1'].str.contains(',', na=False).any()"
   ]
  },
  {
   "cell_type": "code",
   "execution_count": 21,
   "metadata": {},
   "outputs": [],
   "source": [
    "fourrage[[\"Libellé 3-1\", \"Libellé 3-2\"]] = fourrage[\"Libellé 3-1\"].str.split(\",\", n=1, expand=True)"
   ]
  },
  {
   "cell_type": "code",
   "execution_count": 22,
   "metadata": {},
   "outputs": [
    {
     "name": "stdout",
     "output_type": "stream",
     "text": [
      "['No', 'Etat', 'Code INRA', 'Libellé 0', 'Libellé 1', 'Libellé 1-2', 'Libellé 1-3', 'Libellé 2', 'Libellé 2-1', 'Libellé 2-2', 'Libellé 3', 'Libellé 3-1', 'Libellé 4', 'MS', 'UFL', 'UFV', 'PDIA', 'PDI', 'BPR', 'LysDI', 'MetDI', 'HisDI', 'NIref', 'UEM', 'UEL', 'UEB', 'MO', 'MM', 'dMO', 'MAT', 'dMA', 'CB', 'dCB', 'NDF', 'dNDF', 'ADF', 'dADF', 'AG', 'EE', 'P', 'Pabs', 'Ca', 'Caabs', 'Mg', 'BE', 'EB', 'dE', 'EM', 'DT_N', 'DT6_N', 'dr_N', 'S', 'Na', 'K', 'Cl', 'BACA', 'Cu', 'Zn', 'Mn', 'Co', 'Se', 'I', 'VitA', 'VitD', 'VitE', 'LysBP', 'HisBP', 'ArgBP', 'ThrBP', 'ValBP', 'MetBP', 'IleBP', 'LeuBP', 'PheBP', 'AspBP', 'SerBP', 'GluBP', 'ProBP', 'GlyBP', 'AlaBP', 'TyrBP', 'CysTrpBP', 'LysDI.1', 'HisDI.1', 'ArgDI', 'ThrDI', 'ValDI', 'MetDI.1', 'IleDI', 'LeuDI', 'PheDI', 'AspDI', 'SerDI', 'GluDI', 'ProDI', 'GlyDI', 'AlaDI', 'TyrDI', 'C14:0', 'C16:0', 'C16:1', 'C18:0', 'C18:1', 'C18:2', 'C18:3', 'Libellé 3-2']\n"
     ]
    }
   ],
   "source": [
    "cols = fourrage.columns.tolist()\n",
    "print(cols)\n",
    "cols.insert(cols.index('Libellé 3-1') + 1, cols.pop(cols.index('Libellé 3-2')))\n",
    "fourrage = fourrage[cols]"
   ]
  },
  {
   "cell_type": "code",
   "execution_count": 23,
   "metadata": {},
   "outputs": [
    {
     "data": {
      "text/plain": [
       "False"
      ]
     },
     "execution_count": 23,
     "metadata": {},
     "output_type": "execute_result"
    }
   ],
   "source": [
    "fourrage['Libellé 3-1'].str.contains(',', na=False).any()"
   ]
  },
  {
   "cell_type": "markdown",
   "metadata": {},
   "source": [
    "## Arrangement de libellé 4"
   ]
  },
  {
   "cell_type": "code",
   "execution_count": 24,
   "metadata": {},
   "outputs": [
    {
     "data": {
      "text/plain": [
       "True"
      ]
     },
     "execution_count": 24,
     "metadata": {},
     "output_type": "execute_result"
    }
   ],
   "source": [
    "fourrage['Libellé 4'].str.contains(',', na=False).any()"
   ]
  },
  {
   "cell_type": "code",
   "execution_count": 25,
   "metadata": {},
   "outputs": [],
   "source": [
    "fourrage[[\"Libellé 4\", \"Libellé 4-1\"]] = fourrage[\"Libellé 4\"].str.split(\",\", n=1, expand=True)"
   ]
  },
  {
   "cell_type": "code",
   "execution_count": 26,
   "metadata": {},
   "outputs": [
    {
     "name": "stdout",
     "output_type": "stream",
     "text": [
      "['No', 'Etat', 'Code INRA', 'Libellé 0', 'Libellé 1', 'Libellé 1-2', 'Libellé 1-3', 'Libellé 2', 'Libellé 2-1', 'Libellé 2-2', 'Libellé 3', 'Libellé 3-1', 'Libellé 3-2', 'Libellé 4', 'MS', 'UFL', 'UFV', 'PDIA', 'PDI', 'BPR', 'LysDI', 'MetDI', 'HisDI', 'NIref', 'UEM', 'UEL', 'UEB', 'MO', 'MM', 'dMO', 'MAT', 'dMA', 'CB', 'dCB', 'NDF', 'dNDF', 'ADF', 'dADF', 'AG', 'EE', 'P', 'Pabs', 'Ca', 'Caabs', 'Mg', 'BE', 'EB', 'dE', 'EM', 'DT_N', 'DT6_N', 'dr_N', 'S', 'Na', 'K', 'Cl', 'BACA', 'Cu', 'Zn', 'Mn', 'Co', 'Se', 'I', 'VitA', 'VitD', 'VitE', 'LysBP', 'HisBP', 'ArgBP', 'ThrBP', 'ValBP', 'MetBP', 'IleBP', 'LeuBP', 'PheBP', 'AspBP', 'SerBP', 'GluBP', 'ProBP', 'GlyBP', 'AlaBP', 'TyrBP', 'CysTrpBP', 'LysDI.1', 'HisDI.1', 'ArgDI', 'ThrDI', 'ValDI', 'MetDI.1', 'IleDI', 'LeuDI', 'PheDI', 'AspDI', 'SerDI', 'GluDI', 'ProDI', 'GlyDI', 'AlaDI', 'TyrDI', 'C14:0', 'C16:0', 'C16:1', 'C18:0', 'C18:1', 'C18:2', 'C18:3', 'Libellé 4-1']\n"
     ]
    }
   ],
   "source": [
    "cols = fourrage.columns.tolist()\n",
    "print(cols)\n",
    "cols.insert(cols.index('Libellé 4') + 1, cols.pop(cols.index('Libellé 4-1')))\n",
    "fourrage = fourrage[cols]"
   ]
  },
  {
   "cell_type": "code",
   "execution_count": 28,
   "metadata": {},
   "outputs": [
    {
     "data": {
      "text/plain": [
       "True"
      ]
     },
     "execution_count": 28,
     "metadata": {},
     "output_type": "execute_result"
    }
   ],
   "source": [
    "fourrage['Libellé 4-1'].str.contains(',', na=False).any()"
   ]
  },
  {
   "cell_type": "code",
   "execution_count": 29,
   "metadata": {},
   "outputs": [],
   "source": [
    "fourrage[[\"Libellé 4-1\", \"Libellé 4-2\"]] = fourrage[\"Libellé 4-1\"].str.split(\",\", n=1, expand=True)"
   ]
  },
  {
   "cell_type": "code",
   "execution_count": 30,
   "metadata": {},
   "outputs": [
    {
     "name": "stdout",
     "output_type": "stream",
     "text": [
      "['No', 'Etat', 'Code INRA', 'Libellé 0', 'Libellé 1', 'Libellé 1-2', 'Libellé 1-3', 'Libellé 2', 'Libellé 2-1', 'Libellé 2-2', 'Libellé 3', 'Libellé 3-1', 'Libellé 3-2', 'Libellé 4', 'Libellé 4-1', 'MS', 'UFL', 'UFV', 'PDIA', 'PDI', 'BPR', 'LysDI', 'MetDI', 'HisDI', 'NIref', 'UEM', 'UEL', 'UEB', 'MO', 'MM', 'dMO', 'MAT', 'dMA', 'CB', 'dCB', 'NDF', 'dNDF', 'ADF', 'dADF', 'AG', 'EE', 'P', 'Pabs', 'Ca', 'Caabs', 'Mg', 'BE', 'EB', 'dE', 'EM', 'DT_N', 'DT6_N', 'dr_N', 'S', 'Na', 'K', 'Cl', 'BACA', 'Cu', 'Zn', 'Mn', 'Co', 'Se', 'I', 'VitA', 'VitD', 'VitE', 'LysBP', 'HisBP', 'ArgBP', 'ThrBP', 'ValBP', 'MetBP', 'IleBP', 'LeuBP', 'PheBP', 'AspBP', 'SerBP', 'GluBP', 'ProBP', 'GlyBP', 'AlaBP', 'TyrBP', 'CysTrpBP', 'LysDI.1', 'HisDI.1', 'ArgDI', 'ThrDI', 'ValDI', 'MetDI.1', 'IleDI', 'LeuDI', 'PheDI', 'AspDI', 'SerDI', 'GluDI', 'ProDI', 'GlyDI', 'AlaDI', 'TyrDI', 'C14:0', 'C16:0', 'C16:1', 'C18:0', 'C18:1', 'C18:2', 'C18:3', 'Libellé 4-2']\n"
     ]
    }
   ],
   "source": [
    "cols = fourrage.columns.tolist()\n",
    "print(cols)\n",
    "cols.insert(cols.index('Libellé 4-1') + 1, cols.pop(cols.index('Libellé 4-2')))\n",
    "fourrage = fourrage[cols]"
   ]
  },
  {
   "cell_type": "code",
   "execution_count": 31,
   "metadata": {},
   "outputs": [
    {
     "data": {
      "text/plain": [
       "False"
      ]
     },
     "execution_count": 31,
     "metadata": {},
     "output_type": "execute_result"
    }
   ],
   "source": [
    "fourrage['Libellé 4-1'].str.contains(',', na=False).any()"
   ]
  },
  {
   "cell_type": "code",
   "execution_count": 32,
   "metadata": {},
   "outputs": [],
   "source": [
    "del cols"
   ]
  },
  {
   "cell_type": "markdown",
   "metadata": {},
   "source": [
    "Ok plus de virgules !"
   ]
  },
  {
   "cell_type": "markdown",
   "metadata": {},
   "source": [
    "# Définition de la variable objet obj_features"
   ]
  },
  {
   "cell_type": "code",
   "execution_count": 33,
   "metadata": {},
   "outputs": [],
   "source": [
    "obj_features = fourrage.drop([\"Code INRA\"], axis=1).select_dtypes(include=\"object\")"
   ]
  },
  {
   "cell_type": "code",
   "execution_count": 34,
   "metadata": {},
   "outputs": [
    {
     "data": {
      "text/html": [
       "<div>\n",
       "<style scoped>\n",
       "    .dataframe tbody tr th:only-of-type {\n",
       "        vertical-align: middle;\n",
       "    }\n",
       "\n",
       "    .dataframe tbody tr th {\n",
       "        vertical-align: top;\n",
       "    }\n",
       "\n",
       "    .dataframe thead th {\n",
       "        text-align: right;\n",
       "    }\n",
       "</style>\n",
       "<table border=\"1\" class=\"dataframe\">\n",
       "  <thead>\n",
       "    <tr style=\"text-align: right;\">\n",
       "      <th></th>\n",
       "      <th>Libellé 0</th>\n",
       "      <th>Libellé 1</th>\n",
       "      <th>Libellé 1-2</th>\n",
       "      <th>Libellé 1-3</th>\n",
       "      <th>Libellé 2</th>\n",
       "      <th>Libellé 2-1</th>\n",
       "      <th>Libellé 2-2</th>\n",
       "      <th>Libellé 3</th>\n",
       "      <th>Libellé 3-1</th>\n",
       "      <th>Libellé 3-2</th>\n",
       "      <th>Libellé 4</th>\n",
       "      <th>Libellé 4-1</th>\n",
       "      <th>Libellé 4-2</th>\n",
       "    </tr>\n",
       "  </thead>\n",
       "  <tbody>\n",
       "    <tr>\n",
       "      <th>0</th>\n",
       "      <td>FOURRAGES VERTS</td>\n",
       "      <td>PRAIRIES PERMANENTES</td>\n",
       "      <td>PLAINE (NORMANDIE)</td>\n",
       "      <td>None</td>\n",
       "      <td>1er cycle</td>\n",
       "      <td>None</td>\n",
       "      <td>None</td>\n",
       "      <td>15-25 avril</td>\n",
       "      <td>déprimage</td>\n",
       "      <td>ST = 172°C</td>\n",
       "      <td>NaN</td>\n",
       "      <td>NaN</td>\n",
       "      <td>NaN</td>\n",
       "    </tr>\n",
       "    <tr>\n",
       "      <th>1</th>\n",
       "      <td>FOURRAGES VERTS</td>\n",
       "      <td>PRAIRIES PERMANENTES</td>\n",
       "      <td>PLAINE (NORMANDIE)</td>\n",
       "      <td>None</td>\n",
       "      <td>1er cycle</td>\n",
       "      <td>None</td>\n",
       "      <td>None</td>\n",
       "      <td>1-10 mai</td>\n",
       "      <td>pâturage</td>\n",
       "      <td>ST = 298°C</td>\n",
       "      <td>NaN</td>\n",
       "      <td>NaN</td>\n",
       "      <td>NaN</td>\n",
       "    </tr>\n",
       "    <tr>\n",
       "      <th>2</th>\n",
       "      <td>FOURRAGES VERTS</td>\n",
       "      <td>PRAIRIES PERMANENTES</td>\n",
       "      <td>PLAINE (NORMANDIE)</td>\n",
       "      <td>None</td>\n",
       "      <td>1er cycle</td>\n",
       "      <td>None</td>\n",
       "      <td>None</td>\n",
       "      <td>15-25 mai</td>\n",
       "      <td>début épiaison</td>\n",
       "      <td>ST = 470°C</td>\n",
       "      <td>NaN</td>\n",
       "      <td>NaN</td>\n",
       "      <td>NaN</td>\n",
       "    </tr>\n",
       "  </tbody>\n",
       "</table>\n",
       "</div>"
      ],
      "text/plain": [
       "         Libellé 0             Libellé 1          Libellé 1-2 Libellé 1-3  \\\n",
       "0  FOURRAGES VERTS  PRAIRIES PERMANENTES   PLAINE (NORMANDIE)        None   \n",
       "1  FOURRAGES VERTS  PRAIRIES PERMANENTES   PLAINE (NORMANDIE)        None   \n",
       "2  FOURRAGES VERTS  PRAIRIES PERMANENTES   PLAINE (NORMANDIE)        None   \n",
       "\n",
       "   Libellé 2 Libellé 2-1 Libellé 2-2    Libellé 3      Libellé 3-1  \\\n",
       "0  1er cycle        None        None  15-25 avril        déprimage   \n",
       "1  1er cycle        None        None     1-10 mai         pâturage   \n",
       "2  1er cycle        None        None    15-25 mai   début épiaison   \n",
       "\n",
       "   Libellé 3-2 Libellé 4 Libellé 4-1 Libellé 4-2  \n",
       "0   ST = 172°C       NaN         NaN         NaN  \n",
       "1   ST = 298°C       NaN         NaN         NaN  \n",
       "2   ST = 470°C       NaN         NaN         NaN  "
      ]
     },
     "execution_count": 34,
     "metadata": {},
     "output_type": "execute_result"
    }
   ],
   "source": [
    "obj_features.head(3)"
   ]
  },
  {
   "cell_type": "code",
   "execution_count": 35,
   "metadata": {},
   "outputs": [
    {
     "name": "stdout",
     "output_type": "stream",
     "text": [
      "============================================================\n",
      "Libellé 0\n",
      "ENSILAGES                       307\n",
      "FOURRAGES VERTS                 294\n",
      "FOINS                           279\n",
      "PAILLES, FOURRAGES LIGNIFIÉS     21\n",
      "RACINES ET TUBERCULES            12\n",
      "Name: count, dtype: int64\n",
      "============================================================\n",
      "Libellé 1\n",
      "GRAMINÉES FOURRAGÈRES                502\n",
      "PRAIRIES PERMANENTES                 147\n",
      "LÉGUMINEUSES FOURRAGÈRES             147\n",
      "CÉRÉALES PLANTES ENTIÈRES             44\n",
      "PROTÉAGINEUX                          17\n",
      "CRUCIFÈRES                            12\n",
      "COMPOSÉES                             11\n",
      "Paille de Blé                          4\n",
      "Paille d'Orge                          4\n",
      "Cannes de Maïs                         3\n",
      "Betteraves Fourragères                 2\n",
      "Spathes de Maïs                        2\n",
      "Paille de Sorgho                       2\n",
      "Paille de Riz                          2\n",
      "Feuilles et collets de betteraves      2\n",
      "Topinambour                            1\n",
      "Rutabagas                              1\n",
      "Endives                                1\n",
      "Pommes de terre                        1\n",
      "Navet                                  1\n",
      "Paille de Féverole                     1\n",
      "Carottes                               1\n",
      "Betteraves Sucrières                   1\n",
      "Paille de Pois                         1\n",
      "Paille de Graminée fourragère          1\n",
      "Paille d'Avoine                        1\n",
      "Pulpes de betteraves                   1\n",
      "Name: count, dtype: int64\n",
      "============================================================\n",
      "Libellé 1-2\n",
      "RAY-GRASS ANGLAIS           146\n",
      "RAY-GRASS D'ITALIE          103\n",
      "DACTYLE                      93\n",
      "LUZERNE                      84\n",
      "PLAINE (NORMANDIE)           74\n",
      "FÉTUQUE ÉLEVÉE               69\n",
      "BROME                        60\n",
      "TRÈFLE VIOLET                47\n",
      "DEMI-MONTAGNE (AUVERGNE)     44\n",
      "MONTAGNE (ALPES NORD)        24\n",
      "FLÉOLE                       18\n",
      "FÉTUQUE DES PRÉS             13\n",
      "MAÏS                         12\n",
      "SORGHO FOURRAGER             10\n",
      "TRÈFLE BLANC                  8\n",
      "SOJA                          7\n",
      "TOURNESOL                     7\n",
      "SEIGLE                        6\n",
      "COLZA                         6\n",
      "CHOUX                         5\n",
      "AVOINE                        5\n",
      "FÈVEROLE                      5\n",
      "SAINFOIN                      5\n",
      "ORGE                          5\n",
      "BLÉ                           5\n",
      "PLAINE (CRAU)                 5\n",
      "SILPHIUM                      4\n",
      "POIS                          3\n",
      "VESCE                         3\n",
      "LUPIN BLANC                   2\n",
      "PERKO                         1\n",
      "EPIS COMPLETS DE MAÏS         1\n",
      "Name: count, dtype: int64\n",
      "============================================================\n",
      "Libellé 1-3\n",
      "NON ALTERNATIF    75\n",
      "ALTERNATIF        28\n",
      "Name: count, dtype: int64\n",
      "============================================================\n",
      "Libellé 2\n",
      "Année d'exploitation                           128\n",
      "Fané au sol par beau temps                      97\n",
      "Fané au sol par temps de pluie (< 10 jours)     84\n",
      "Mi-fané > 50% MS                                83\n",
      "Brins courts sans conservateur                  74\n",
      "Préfané coupe fine                              68\n",
      "Brins courts avec conservateur                  67\n",
      "Ventilé                                         61\n",
      "1er cycle                                       46\n",
      "Année de semis                                  19\n",
      "3e cycle                                        13\n",
      "À base de graminées                             12\n",
      "À base de dicotylédones                         12\n",
      "Fané au sol par temps de pluie                  10\n",
      "Fané au sol                                      9\n",
      "2e cycle après coupe bourgeonnement              9\n",
      "2e cycle après coupe épiaison                    9\n",
      "4e cycle                                         6\n",
      "Variétés tardives                                4\n",
      "Conditions normales de végétation                4\n",
      "Immature                                         3\n",
      "2e cycle après déprimage                         3\n",
      "Variétés précoces                                3\n",
      "Mauvaises conditions de végétation               3\n",
      "2e cycle                                         3\n",
      "En culture dérobée                               3\n",
      "Très bonnes conditions de végétation             1\n",
      "Name: count, dtype: int64\n",
      "============================================================\n",
      "Libellé 2-1\n",
      "enrubanné                                      83\n",
      "1er cycle                                      62\n",
      "2e cycle après coupe épiaison                  29\n",
      "3e cycle                                       24\n",
      "4e cycle                                        7\n",
      "2e cycle après déprimage                        6\n",
      "Ventilé                                         6\n",
      "Fané au sol par beau temps                      6\n",
      "Fané au sol par temps de pluie (< 10 jours)     6\n",
      "Feuillu                                         3\n",
      "Name: count, dtype: int64\n",
      "============================================================\n",
      "Libellé 2-2\n",
      "variétés précoces    9\n",
      "variétés tardives    8\n",
      "Name: count, dtype: int64\n",
      "============================================================\n",
      "Libellé 3\n",
      "1er cycle                                    318\n",
      "2e cycle après coupe épiaison                138\n",
      "3e cycle                                      56\n",
      "2e cycle après coupe bourgeonnement           39\n",
      "2e cycle après déprimage                      29\n",
      "                                            ... \n",
      "Repousses à tiges de 10 semaines               1\n",
      "Moelliers et 1/2 moelliers                     1\n",
      "Feuillus                                       1\n",
      "Cavaliers rouges                               1\n",
      "Pulpes de betteraves surpressées ensilées      1\n",
      "Name: count, Length: 94, dtype: int64\n",
      "============================================================\n",
      "Libellé 3-1\n",
      "variétés précoces                     36\n",
      "variétés tardives                     30\n",
      "Seule                                 11\n",
      "Traitée à l'ammoniac                   4\n",
      "pluviométrie non limitante             3\n",
      "déprimage                              2\n",
      "pâturage                               2\n",
      "Fraîches                               2\n",
      "pluviométrie limitante                 2\n",
      "sécheresse                             2\n",
      "conditions normales                    2\n",
      "floraison                              2\n",
      "épiaison                               2\n",
      "début épiaison                         2\n",
      "Traitée à l'ammoniac (4% de la MS)     2\n",
      ">35% MS                                1\n",
      "toutes exploitations                   1\n",
      "fin floraison                          1\n",
      "Ensilées                               1\n",
      "Name: count, dtype: int64\n",
      "============================================================\n",
      "Libellé 3-2\n",
      "ST = 172°C     1\n",
      "ST = 298°C     1\n",
      "ST = 470°C     1\n",
      "ST = 685°C     1\n",
      "ST = 903°C     1\n",
      "ST = 1142°C    1\n",
      "Name: count, dtype: int64\n",
      "============================================================\n",
      "Libellé 4\n",
      "Début floraison                           49\n",
      "Début épiaison                            47\n",
      "Repousses à tiges de 6 semaines           46\n",
      "Repousses à tiges de 7 semaines           44\n",
      "Épiaison                                  41\n",
      "Repousses feuillues de 6 semaines         41\n",
      "Repousses feuillues de 7 semaines         40\n",
      "Fin épiaison                              39\n",
      "1 semaine avant le début de l'épiaison    31\n",
      "Repousses feuillues de 8 semaines         29\n",
      "Repousses à tiges de 8 semaines           25\n",
      "Floraison                                 23\n",
      "Repousses à tiges de 5 semaines           17\n",
      "1-10 juin                                 14\n",
      "15-25 juin                                13\n",
      "Bourgeonnement                            12\n",
      "Début bourgeonnement                      12\n",
      "Repousses à tiges de 9 semaines            9\n",
      "Fructification du dactyle                  8\n",
      "Épiaison du dactyle                        8\n",
      "Repousses feuillues de 5 semaines          8\n",
      "15-25 mai                                  8\n",
      "1-10 juillet                               6\n",
      "Feuillu                                    4\n",
      "Vitreux                                    4\n",
      "Repousses feuillues de 9 semaines          4\n",
      "Graine consistante                         3\n",
      "Laiteux-pâteux                             3\n",
      "1-10 mai                                   3\n",
      "Moyenne                                    2\n",
      "Bonne                                      2\n",
      "Fin floraison                              2\n",
      "Repousses feuillues de 4 semaines          2\n",
      "Mauvaise                                   2\n",
      "Épi à 10 cm du sol                         2\n",
      "Moelliers et 1/2 moelliers                 1\n",
      "Sécheresse estivale                        1\n",
      "15-25 août                                 1\n",
      "10-20 mai                                  1\n",
      "Gel stade laiteux-pateux                   1\n",
      "Temp. été insuff.                          1\n",
      "Pâteux                                     1\n",
      "105 jours après semis                      1\n",
      "75 jours après semis                       1\n",
      "Name: count, dtype: int64\n",
      "============================================================\n",
      "Libellé 4-1\n",
      "début épiaison                    14\n",
      "épiaison                          14\n",
      "floraison                         10\n",
      "1ère coupe précoce                 2\n",
      "feuillu                            2\n",
      "réc. 3 sem. apr. gel               1\n",
      "2e coupe                           1\n",
      "1ère coupe tardive                 1\n",
      "maïs pauvre en épis                1\n",
      "35% MS                             1\n",
      "récolte + 55 j. apr. floraison     1\n",
      ">35% MS                            1\n",
      "35% MS                             1\n",
      "30% MS                             1\n",
      "25% MS                             1\n",
      "fin floraison                      1\n",
      "3e coupe                           1\n",
      "Name: count, dtype: int64\n",
      "============================================================\n",
      "Libellé 4-2\n",
      "ST = 470°C       7\n",
      "ST = 685°C       7\n",
      "ST = 903°C       6\n",
      "ST = 1142°C      1\n",
      "% d'épis > 65    1\n",
      "ST = 298°C       1\n",
      "Name: count, dtype: int64\n"
     ]
    }
   ],
   "source": [
    "for col in obj_features.columns :\n",
    "    print(\"=\" * 60)\n",
    "    print(obj_features[col].value_counts())\n"
   ]
  },
  {
   "cell_type": "markdown",
   "metadata": {},
   "source": [
    "# Définition des fontions d'intérêts"
   ]
  },
  {
   "cell_type": "code",
   "execution_count": 36,
   "metadata": {},
   "outputs": [],
   "source": [
    "# Pas de variables catégorielles, seulement numériques, sur lesquelles on prend une standardisation\n",
    "\n",
    "def OptimisationNumOny(target_features) :\n",
    "    \n",
    "    scaler = StandardScaler()\n",
    "    num_features_T = pd.DataFrame(scaler.fit_transform(num_features), columns = num_features.columns)\n",
    "    target_features_T = pd.DataFrame(scaler.fit_transform(target_features), columns = target_features.columns)\n",
    "    \n",
    "    for col in num_features_T.columns:\n",
    "        na_count = num_features_T[col].isna().sum()  # Nombre de valeurs manquantes dans la colonne\n",
    "        if na_count > 0:  # Si au moins une valeur manquante\n",
    "            print(f\"Colonne {col} : attention NA ({na_count} valeurs manquantes)\")\n",
    "        \n",
    "    num_features_T = num_features_T.dropna()\n",
    "    \n",
    "    for col in num_features_T.columns:\n",
    "        na_count = num_features_T[col].isna().sum()  # Nombre de valeurs manquantes dans la colonne\n",
    "        if na_count > 0:  # Si au moins une valeur manquante\n",
    "            print(f\"Colonne {col} : attention encore NA ({na_count} valeurs manquantes)\")\n",
    "        else :\n",
    "            print(\"Ok pas de valeurs manquantes\")\n",
    "    \n",
    "    df_t = pd.concat([num_features_T, target_features_T], axis=1)\n",
    "    \n",
    "    for col in df_t.columns:\n",
    "        na_count = df_t[col].isna().sum()  # Nombre de valeurs manquantes dans la colonne\n",
    "        if na_count > 0:  # Si au moins une valeur manquante\n",
    "            print(f\"Colonne {col} : attention NA ({na_count} valeurs manquantes)\")\n",
    "    \n",
    "    df_t = df_t.dropna()\n",
    "    \n",
    "    for col in df_t.columns:\n",
    "        na_count = df_t[col].isna().sum()  # Nombre de valeurs manquantes dans la colonne\n",
    "        if na_count > 0:  # Si au moins une valeur manquante\n",
    "            print(f\"Colonne {col} : attention encore NA ({na_count} valeurs manquantes)\")\n",
    "        else :\n",
    "            print(\"Ok plus de valeurs manquantes !\")\n",
    "\n",
    "    X_temp = df_t.drop(target, axis = 1)\n",
    "    Y_temp = df_t[target.columns]\n",
    "    \n",
    "    X_temp.columns = [str(i) for i in range(X_temp.shape[1])]\n",
    "    \n",
    "    return X_temp, Y_temp"
   ]
  },
  {
   "cell_type": "code",
   "execution_count": 37,
   "metadata": {},
   "outputs": [
    {
     "ename": "NameError",
     "evalue": "name 'Optimisation_avec_MCA_avec_PCA_avant' is not defined",
     "output_type": "error",
     "traceback": [
      "\u001b[1;31m---------------------------------------------------------------------------\u001b[0m",
      "\u001b[1;31mNameError\u001b[0m                                 Traceback (most recent call last)",
      "Cell \u001b[1;32mIn[37], line 1\u001b[0m\n\u001b[1;32m----> 1\u001b[0m test1, test2 \u001b[38;5;241m=\u001b[39m \u001b[43mOptimisation_avec_MCA_avec_PCA_avant\u001b[49m(\u001b[38;5;241m3\u001b[39m, target)\n\u001b[0;32m      2\u001b[0m df \u001b[38;5;241m=\u001b[39m PerfDesModeles(test1, test2, metrique_num\u001b[38;5;241m=\u001b[39m\u001b[38;5;28;01mTrue\u001b[39;00m, graph_affich\u001b[38;5;241m=\u001b[39m\u001b[38;5;28;01mFalse\u001b[39;00m)\n\u001b[0;32m      3\u001b[0m best_model(df)\n",
      "\u001b[1;31mNameError\u001b[0m: name 'Optimisation_avec_MCA_avec_PCA_avant' is not defined"
     ]
    }
   ],
   "source": [
    "test1, test2 = Optimisation_avec_MCA_avec_PCA_avant(3, target)\n",
    "df = PerfDesModeles(test1, test2, metrique_num=True, graph_affich=False)\n",
    "best_model(df)"
   ]
  },
  {
   "cell_type": "code",
   "execution_count": 38,
   "metadata": {},
   "outputs": [],
   "source": [
    "# OneHot seulement sur les données catégorielles, pas de numériques :\n",
    "\n",
    "def OptimisationOneHot(nb_colonne_obj, target_features) :\n",
    "    \n",
    "    obj_features_temp = obj_features.iloc[:, 0:nb_colonne_obj]\n",
    "    \n",
    "    enc = OneHotEncoder(handle_unknown=\"ignore\", sparse_output=False)\n",
    "    obj_features_temp_enc = enc.fit_transform(obj_features_temp)\n",
    "    \n",
    "    obj_features_temp_enc = pd.DataFrame(\n",
    "        obj_features_temp_enc,\n",
    "        columns = enc.get_feature_names_out(obj_features_temp.columns),\n",
    "        index = obj_features_temp.index)\n",
    "    \n",
    "    scaler = StandardScaler()\n",
    "    target_features_T = pd.DataFrame(scaler.fit_transform(target_features), columns = target_features.columns)\n",
    "    \n",
    "    df_t = pd.concat([obj_features_temp_enc, target_features_T], axis=1)\n",
    "    \n",
    "    for col in df_t.columns:\n",
    "        na_count = df_t[col].isna().sum()  # Nombre de valeurs manquantes dans la colonne\n",
    "        if na_count > 0:  # Si au moins une valeur manquante\n",
    "            print(f\"Colonne {col} : attention NA ({na_count} valeurs manquantes)\")\n",
    "    \n",
    "    df_t = df_t.dropna()\n",
    "    \n",
    "    X_temp = df_t.drop(target, axis = 1)\n",
    "    Y_temp = df_t[target.columns]\n",
    "    \n",
    "    # print(\"len :\", X_temp.shape[1])\n",
    "    X_temp.columns = [str(i) for i in range(X_temp.shape[1])]\n",
    "    \n",
    "    return X_temp, Y_temp"
   ]
  },
  {
   "cell_type": "code",
   "execution_count": 39,
   "metadata": {},
   "outputs": [],
   "source": [
    "# One Hot + concaténation avec les numériques + séparation de X et Y + return X et Y\n",
    "\n",
    "def Optimisation_sans_MCA_sans_PCA(nb_colonne_obj, target_features) :\n",
    "    \n",
    "    obj_features_temp = obj_features.iloc[:, 0:nb_colonne_obj]\n",
    "    \n",
    "    enc = OneHotEncoder(handle_unknown=\"ignore\", sparse_output=False)\n",
    "    obj_features_temp_enc = enc.fit_transform(obj_features_temp)\n",
    "    \n",
    "    obj_features_temp_enc = pd.DataFrame(\n",
    "        obj_features_temp_enc,\n",
    "        columns = enc.get_feature_names_out(obj_features_temp.columns),\n",
    "        index = obj_features_temp.index)\n",
    "    \n",
    "    scaler = StandardScaler()\n",
    "    num_features_T = pd.DataFrame(scaler.fit_transform(num_features), columns = num_features.columns)\n",
    "    target_features_T = pd.DataFrame(scaler.fit_transform(target_features), columns = target_features.columns)\n",
    "    \n",
    "    df_t = pd.concat([obj_features_temp_enc, num_features_T, target_features_T], axis=1)\n",
    "    \n",
    "    for col in df_t.columns:\n",
    "        na_count = df_t[col].isna().sum()  # Nombre de valeurs manquantes dans la colonne\n",
    "        if na_count > 0:  # Si au moins une valeur manquante\n",
    "            print(f\"Colonne {col} : attention NA ({na_count} valeurs manquantes)\")\n",
    "    \n",
    "    df_t = df_t.dropna()\n",
    "    \n",
    "    X_temp = df_t.drop(target, axis = 1)\n",
    "    Y_temp = df_t[target.columns]\n",
    "    \n",
    "    # print(\"len :\", X_temp.shape[1])\n",
    "    X_temp.columns = [str(i) for i in range(X_temp.shape[1]-7)] + [\"MM\", \"MAT\", \"CB\", \"NDF\", \"ADF\", \"EE\", \"PDIE\"]\n",
    "    \n",
    "    return X_temp, Y_temp"
   ]
  },
  {
   "cell_type": "code",
   "execution_count": 40,
   "metadata": {},
   "outputs": [],
   "source": [
    "# One Hot + mca sur le OneHot + concaténation avec standardisation + séparation de X et Y + return X et Y\n",
    "\n",
    "def Optimisation_avec_MCA_sans_PCA(nb_colonne_obj, target_features) :\n",
    "    \n",
    "    mca_temp = pr.MCA(\n",
    "        n_components=nb_colonne_obj,\n",
    "        n_iter=5,\n",
    "        copy=True,\n",
    "        check_input=True,\n",
    "        engine='sklearn',\n",
    "        random_state=0)\n",
    "    \n",
    "    obj_features_temp = obj_features.iloc[:, 0:nb_colonne_obj]\n",
    "    \n",
    "    mca_temp.fit(obj_features)\n",
    "    obj_features_N = mca_temp.transform(obj_features)\n",
    "    \n",
    "    scaler = StandardScaler()\n",
    "    num_features_T = pd.DataFrame(scaler.fit_transform(num_features), columns = num_features.columns)\n",
    "    target_features_T = pd.DataFrame(scaler.fit_transform(target_features), columns = target_features.columns)\n",
    "    \n",
    "    df_t = pd.concat([obj_features_N, num_features_T, target_features_T], axis=1)\n",
    "    \n",
    "    for col in df_t.columns:\n",
    "        na_count = df_t[col].isna().sum()  # Nombre de valeurs manquantes dans la colonne\n",
    "        if na_count > 0:  # Si au moins une valeur manquante\n",
    "            print(f\"Colonne {col} : attention NA ({na_count} valeurs manquantes)\")\n",
    "    \n",
    "    df_t = df_t.dropna()\n",
    "    \n",
    "    for col in df_t.columns:\n",
    "        na_count = df_t[col].isna().sum()  # Nombre de valeurs manquantes dans la colonne\n",
    "        if na_count > 0:  # Si au moins une valeur manquante\n",
    "            print(f\"Colonne {col} : attention encore NA ({na_count} valeurs manquantes)\")\n",
    "\n",
    "    X_temp = df_t.drop(target, axis = 1)\n",
    "    Y_temp = df_t[target.columns]\n",
    "    \n",
    "    X_temp.columns = [str(i) for i in range(X_temp.shape[1]-7)] + [\"MM\", \"MAT\", \"CB\", \"NDF\", \"ADF\", \"EE\", \"PDIE\"]\n",
    "    \n",
    "    return X_temp, Y_temp"
   ]
  },
  {
   "cell_type": "code",
   "execution_count": 41,
   "metadata": {},
   "outputs": [],
   "source": [
    "# One Hot + mca sur le OneHot + standardisation des données catégorielles + PCA + concaténation + séparation de X et Y + return X et Y\n",
    "\n",
    "def Optimisation_avec_MCA_avec_PCA_avant(nb_colonne_obj, target_features) :\n",
    "    \n",
    "    mca_temp = pr.MCA(\n",
    "        n_components=nb_colonne_obj,\n",
    "        n_iter=5,\n",
    "        copy=True,\n",
    "        check_input=True,\n",
    "        engine='sklearn',\n",
    "        random_state=0)\n",
    "    \n",
    "    obj_features_temp = obj_features.iloc[:, 0:nb_colonne_obj]\n",
    "    \n",
    "    mca_temp.fit(obj_features)\n",
    "    obj_features_N = mca_temp.transform(obj_features)\n",
    "    \n",
    "    scaler = StandardScaler()\n",
    "    num_features_T = pd.DataFrame(scaler.fit_transform(num_features), columns = num_features.columns)\n",
    "    target_features_T = pd.DataFrame(scaler.fit_transform(target_features), columns = target_features.columns)\n",
    "    \n",
    "    for col in num_features_T.columns:\n",
    "        na_count = num_features_T[col].isna().sum()  # Nombre de valeurs manquantes dans la colonne\n",
    "        if na_count > 0:  # Si au moins une valeur manquante\n",
    "            print(f\"Colonne {col} : attention NA ({na_count} valeurs manquantes)\")\n",
    "        \n",
    "    num_features_T = num_features_T.dropna()\n",
    "    \n",
    "    for col in num_features_T.columns:\n",
    "        na_count = num_features_T[col].isna().sum()  # Nombre de valeurs manquantes dans la colonne\n",
    "        if na_count > 0:  # Si au moins une valeur manquante\n",
    "            print(f\"Colonne {col} : attention encore NA ({na_count} valeurs manquantes)\")\n",
    "        else :\n",
    "            print(\"Ok pas de valeurs manquantes\")\n",
    "    \n",
    "    pca = PCA(n_components = num_features_T.shape[1])\n",
    "    num_features_TN = pca.fit_transform(num_features_T)\n",
    "    \n",
    "    num_features_TN = pd.DataFrame(num_features_TN, columns=[f\"PCA_{i}\" for i in range(num_features_TN.shape[1])])\n",
    "    \n",
    "    df_t = pd.concat([obj_features_N, num_features_TN, target_features_T], axis=1)\n",
    "    \n",
    "    # for col in df_t.columns:\n",
    "    #     na_count = df_t[col].isna().sum()  # Nombre de valeurs manquantes dans la colonne\n",
    "    #     if na_count > 0:  # Si au moins une valeur manquante\n",
    "    #         print(f\"Colonne {col} : attention NA ({na_count} valeurs manquantes)\")\n",
    "    \n",
    "    df_t = df_t.dropna()\n",
    "    \n",
    "    # for col in df_t.columns:\n",
    "    #     na_count = df_t[col].isna().sum()  # Nombre de valeurs manquantes dans la colonne\n",
    "    #     if na_count > 0:  # Si au moins une valeur manquante\n",
    "    #         print(f\"Colonne {col} : attention encore NA ({na_count} valeurs manquantes)\")\n",
    "\n",
    "    X_temp = df_t.drop(target, axis = 1)\n",
    "    Y_temp = df_t[target.columns]\n",
    "    \n",
    "    X_temp.columns = [str(i) for i in range(X_temp.shape[1])]\n",
    "    \n",
    "    return X_temp, Y_temp"
   ]
  },
  {
   "cell_type": "code",
   "execution_count": 42,
   "metadata": {},
   "outputs": [],
   "source": [
    "# Concaténation des variables catégorielles et numériques + FAMD + séparation de X et Y + return X et Y\n",
    "\n",
    "def Optimisation_avec_FAMD(nb_colonne_obj, target_features) :\n",
    "    \n",
    "    obj_features_temp = obj_features.iloc[:, 0:nb_colonne_obj]\n",
    "    \n",
    "    df_temporaire = pd.concat([obj_features_temp, num_features], axis=1)\n",
    "    \n",
    "    scaler = StandardScaler()\n",
    "    #num_features_T = pd.DataFrame(scaler.fit_transform(num_features), columns = num_features.columns)\n",
    "    \n",
    "    for col in df_temporaire.columns:\n",
    "        na_count = df_temporaire[col].isna().sum()  # Nombre de valeurs manquantes dans la colonne\n",
    "        if na_count > 0:  # Si au moins une valeur manquante\n",
    "            print(f\"Colonne {col} : attention NA ({na_count} valeurs manquantes)\")\n",
    "        \n",
    "    df_temporaire = df_temporaire.dropna()\n",
    "    \n",
    "    for col in df_temporaire.columns:\n",
    "        na_count = df_temporaire[col].isna().sum()  # Nombre de valeurs manquantes dans la colonne\n",
    "        if na_count > 0:  # Si au moins une valeur manquante\n",
    "            print(f\"Colonne {col} : attention encore NA ({na_count} valeurs manquantes)\")\n",
    "        else :\n",
    "            print(\"Ok pas de valeurs manquantes\")\n",
    "        \n",
    "    famd = pr.FAMD(\n",
    "    n_components=df_temporaire.shape[1],\n",
    "    n_iter=5,\n",
    "    copy=True,\n",
    "    check_input=True,\n",
    "    random_state=42,\n",
    "    engine=\"sklearn\",\n",
    "    handle_unknown=\"ignore\" # same parameter as sklearn.preprocessing.OneHotEncoder\n",
    ")\n",
    "    \n",
    "    famd = famd.fit(df_temporaire)\n",
    "    df_t = famd.transform(df_temporaire)\n",
    "    \n",
    "    target_features_T = pd.DataFrame(scaler.fit_transform(target_features), columns = target_features.columns)\n",
    "    \n",
    "    df_t = pd.concat([df_t, target_features_T], axis=1)\n",
    "\n",
    "    X_temp = df_t.drop(target, axis = 1)\n",
    "    Y_temp = df_t[target.columns]\n",
    "    \n",
    "    X_temp.columns = [str(i) for i in range(X_temp.shape[1])]\n",
    "    \n",
    "    return X_temp, Y_temp"
   ]
  },
  {
   "cell_type": "code",
   "execution_count": 80,
   "metadata": {},
   "outputs": [],
   "source": [
    "# Prend X et Y + séparation train et test + evaluation par chaque modèle + renvoie de plusieurs métriques pour les différents paramètres\n",
    "\n",
    "def PerfDesModeles(X_t, Y_t, metrique_num = True, graph_affich = True):\n",
    "    # Définition des cibles\n",
    "    target = [\"UFV\", \"UFL\", \"PDI\", \"BPR\"]\n",
    "\n",
    "    # Liste des modèles à évaluer\n",
    "    models = [\n",
    "        LinearRegression(), Ridge(), SVR(), DecisionTreeRegressor(),\n",
    "        RandomForestRegressor(), GradientBoostingRegressor(),\n",
    "        XGBRegressor(), MLPRegressor(), KNeighborsRegressor()\n",
    "    ]\n",
    "\n",
    "    # Listes pour stocker les métriques globales\n",
    "    mape_tot, max_error_tot, mae_tot, r2_tot = [], [], [], []\n",
    "\n",
    "    # Parcours de chaque variable cible\n",
    "    for tar in target:\n",
    "        # Extraction de la cible\n",
    "        Y_t_temp = Y_t[tar]\n",
    "\n",
    "        # Division des données en ensembles d'entraînement et de test\n",
    "        X_train, X_test, Y_train, Y_test = train_test_split(\n",
    "            X_t, Y_t_temp, test_size=0.33, random_state=0, shuffle=True\n",
    "        )\n",
    "\n",
    "        # Conversion des noms de colonnes en chaînes de caractères (si nécessaire)\n",
    "        X_train.columns = X_train.columns.astype('str')\n",
    "        X_test.columns = X_test.columns.astype('str')\n",
    "\n",
    "        # Listes temporaires pour stocker les métriques d'une seule cible\n",
    "        mape_temp, max_error_temp, mae_temp, r2_temp = [], [], [], []\n",
    "\n",
    "        # Évaluation de chaque modèle\n",
    "        for model in models:\n",
    "            # Entraînement et prédiction\n",
    "            model.fit(X_train, Y_train)\n",
    "            Yhat = model.predict(X_test)\n",
    "\n",
    "            # Calcul des métriques\n",
    "            mape_temp.append(mean_absolute_percentage_error(Y_test, Yhat).round(4))\n",
    "            max_error_temp.append(max_error(Y_test, Yhat).round(4))\n",
    "            mae_temp.append(mean_absolute_error(Y_test, Yhat).round(4))\n",
    "            r2_temp.append(r2_score(Y_test, Yhat))\n",
    "\n",
    "        # Ajout des résultats pour la cible en cours\n",
    "        mape_tot.append(mape_temp)\n",
    "        max_error_tot.append(max_error_temp)\n",
    "        mae_tot.append(mae_temp)\n",
    "        r2_tot.append(r2_temp)\n",
    "\n",
    "    # Noms des modèles pour indexer les DataFrames\n",
    "    model_names = [model.__class__.__name__ for model in models]\n",
    "\n",
    "    # Création des DataFrames pour chaque métrique\n",
    "    mape_df = pd.DataFrame(mape_tot, columns=model_names, index=target).T\n",
    "    max_error_df = pd.DataFrame(max_error_tot, columns=model_names, index=target).T\n",
    "    mae_df = pd.DataFrame(mae_tot, columns=model_names, index=target).T\n",
    "    r2_df = pd.DataFrame(r2_tot, columns=model_names, index=target).T\n",
    "\n",
    "    # Liste des métriques et leurs titres pour la visualisation\n",
    "    metriques = [\n",
    "        (mape_df, \"MAPE (Mean Absolute Percentage Error)\"),\n",
    "        (max_error_df, \"Erreur Maximale\"),\n",
    "        (mae_df, \"MAE (Mean Absolute Error)\"),\n",
    "        (r2_df, \"R² (Coefficient de Détermination)\")\n",
    "    ]\n",
    "\n",
    "    # Visualisation des résultats sous forme de heatmaps\n",
    "    if graph_affich == True :\n",
    "        for df, title in metriques:\n",
    "            plt.figure(figsize=(6, 4))\n",
    "            sns.heatmap(df, annot=True, cmap=\"pink\", fmt=\".4g\")\n",
    "            plt.title(title)\n",
    "            plt.show()\n",
    "            \n",
    "    # Return éventuelle des métriques :\n",
    "    if metrique_num == True :\n",
    "        return r2_df"
   ]
  },
  {
   "cell_type": "code",
   "execution_count": 87,
   "metadata": {},
   "outputs": [],
   "source": [
    "def PerfDesModeles2(X_t, Y_t, cv=5, metrique_num=True, graph_affich=True):\n",
    "    # Définition des cibles\n",
    "    targets = [\"UFV\", \"UFL\", \"PDI\", \"BPR\"]\n",
    "\n",
    "    # Liste des modèles à évaluer\n",
    "    models = [\n",
    "        LinearRegression(), Ridge(), SVR(), DecisionTreeRegressor(),\n",
    "        RandomForestRegressor(), GradientBoostingRegressor(),\n",
    "        XGBRegressor(), MLPRegressor(), KNeighborsRegressor()\n",
    "    ]\n",
    "\n",
    "    # Création d'un validateur K-Fold\n",
    "    kf = KFold(n_splits=cv, shuffle=True, random_state=42)\n",
    "\n",
    "    # Listes pour stocker les métriques globales\n",
    "    neg_mean_absolute_percentage_error_tot, max_error_tot, mae_tot, r2_tot = [], [], [], []\n",
    "\n",
    "    # Parcours de chaque variable cible\n",
    "    for target in targets:\n",
    "        # Extraction de la cible\n",
    "        Y_t_temp = Y_t[target]\n",
    "\n",
    "        # Listes temporaires pour stocker les métriques pour cette cible\n",
    "        neg_mean_absolute_percentage_error_temp, max_error_temp, mae_temp, r2_temp = [], [], [], []\n",
    "\n",
    "        # Évaluation de chaque modèle\n",
    "        for model in models:\n",
    "            # Calcul des scores via cross-validation\n",
    "            neg_mean_absolute_percentage_error_scores = cross_val_score(\n",
    "                model, X_t, Y_t_temp, cv=kf,\n",
    "                scoring=\"neg_mean_absolute_percentage_error\"\n",
    "            )\n",
    "            max_error_scores = cross_val_score(\n",
    "                model, X_t, Y_t_temp, cv=kf,\n",
    "                scoring=\"max_error\"\n",
    "            )\n",
    "            mae_scores = cross_val_score(\n",
    "                model, X_t, Y_t_temp, cv=kf,\n",
    "                scoring=\"neg_mean_absolute_error\"\n",
    "            )\n",
    "            r2_scores = cross_val_score(\n",
    "                model, X_t, Y_t_temp, cv=kf,\n",
    "                scoring=\"r2\"\n",
    "            )\n",
    "\n",
    "            # Moyenne des métriques (en inversant les métriques négatives)\n",
    "            neg_mean_absolute_percentage_error_temp.append(-neg_mean_absolute_percentage_error_scores.mean().round(4))\n",
    "            max_error_temp.append(-max_error_scores.mean().round(4))\n",
    "            mae_temp.append(-mae_scores.mean().round(4))\n",
    "            r2_temp.append(r2_scores.mean().round(4))\n",
    "\n",
    "        # Ajout des résultats pour la cible actuelle\n",
    "        neg_mean_absolute_percentage_error_tot.append(neg_mean_absolute_percentage_error_temp)\n",
    "        max_error_tot.append(max_error_temp)\n",
    "        mae_tot.append(mae_temp)\n",
    "        r2_tot.append(r2_temp)\n",
    "\n",
    "    # Noms des modèles pour indexer les DataFrames\n",
    "    model_names = [model.__class__.__name__ for model in models]\n",
    "\n",
    "    # Création des DataFrames pour chaque métrique\n",
    "    neg_mean_absolute_percentage_error_df = pd.DataFrame(neg_mean_absolute_percentage_error_tot, columns=model_names, index=targets).T\n",
    "    max_error_df = pd.DataFrame(max_error_tot, columns=model_names, index=targets).T\n",
    "    mae_df = pd.DataFrame(mae_tot, columns=model_names, index=targets).T\n",
    "    r2_df = pd.DataFrame(r2_tot, columns=model_names, index=targets).T\n",
    "\n",
    "    # Liste des métriques et leurs titres pour la visualisation\n",
    "    metriques = [\n",
    "        (neg_mean_absolute_percentage_error_df, \"Neg_mean_absolute_percentage_error\"),\n",
    "        (max_error_df, \"Erreur Maximale\"),\n",
    "        (mae_df, \"MAE (Mean Absolute Error)\"),\n",
    "        (r2_df, \"R² (Coefficient de Détermination)\")\n",
    "    ]\n",
    "\n",
    "    # Visualisation des résultats sous forme de heatmaps\n",
    "    if graph_affich:\n",
    "        for df, title in metriques:\n",
    "            plt.figure(figsize=(8, 5))\n",
    "            sns.heatmap(df, annot=True, cmap=\"coolwarm\", fmt=\".4g\")\n",
    "            plt.title(title)\n",
    "            plt.show()\n",
    "\n",
    "    # Retour éventuel des métriques\n",
    "    if metrique_num:\n",
    "        return neg_mean_absolute_percentage_error_df"
   ]
  },
  {
   "cell_type": "code",
   "execution_count": 71,
   "metadata": {},
   "outputs": [],
   "source": [
    "# Prends un tableau de résultats et renvoie le meilleur score et le meilleure modèle pour chaque colonne du tableau\n",
    "\n",
    "def best_model(df):\n",
    "    \n",
    "    cible = []\n",
    "    best_mod = []\n",
    "    best_score = []\n",
    "    \n",
    "    for col in df.columns:\n",
    "        # Trouver l'index de la valeur maximale pour chaque colonne\n",
    "        index_max_score = np.argmax(df[col])\n",
    "\n",
    "        # Enregistrer le score maximal\n",
    "        best_score.append(df[col].iloc[index_max_score])\n",
    "\n",
    "        # Enregistrer le nom du modèle correspondant (index du DataFrame)\n",
    "        best_mod.append(df.index[index_max_score])\n",
    "        \n",
    "        # Enregistrement des cibles\n",
    "        cible.append(col)\n",
    "\n",
    "    df = pd.DataFrame(list(zip(cible, best_mod, best_score)), columns=['cible', 'Model', 'neg_mean_absolute_percentage_error score'])\n",
    "    \n",
    "    # Retourner les scores et modèles sous forme de liste\n",
    "    return df"
   ]
  },
  {
   "cell_type": "code",
   "execution_count": 91,
   "metadata": {},
   "outputs": [],
   "source": [
    "# Prends un tableau de résultats et renvoie le meilleur score et le meilleure modèle pour chaque colonne du tableau\n",
    "\n",
    "def best_model2(df):\n",
    "    \n",
    "    cible = []\n",
    "    best_mod = []\n",
    "    best_score = []\n",
    "    \n",
    "    for col in df.columns:\n",
    "        # Trouver l'index de la valeur maximale pour chaque colonne\n",
    "        index_min_score = np.argmin(df[col])\n",
    "\n",
    "        # Enregistrer le score maximal\n",
    "        best_score.append(df[col].iloc[index_min_score])\n",
    "\n",
    "        # Enregistrer le nom du modèle correspondant (index du DataFrame)\n",
    "        best_mod.append(df.index[index_min_score])\n",
    "        \n",
    "        # Enregistrement des cibles\n",
    "        cible.append(col)\n",
    "\n",
    "    df = pd.DataFrame(list(zip(cible, best_mod, best_score)), columns=['cible', 'Model', 'neg_mean_absolute_percentage_error score'])\n",
    "    \n",
    "    # Retourner les scores et modèles sous forme de liste\n",
    "    return df"
   ]
  },
  {
   "cell_type": "markdown",
   "metadata": {},
   "source": [
    "## Test"
   ]
  },
  {
   "cell_type": "code",
   "execution_count": 86,
   "metadata": {},
   "outputs": [
    {
     "name": "stdout",
     "output_type": "stream",
     "text": [
      "Colonne ADF : attention NA (3 valeurs manquantes)\n",
      "Colonne EE : attention NA (1 valeurs manquantes)\n"
     ]
    },
    {
     "name": "stderr",
     "output_type": "stream",
     "text": [
      "c:\\Users\\rapha\\AppData\\Local\\Programs\\Python\\Python312\\Lib\\site-packages\\sklearn\\neural_network\\_multilayer_perceptron.py:690: ConvergenceWarning: Stochastic Optimizer: Maximum iterations (200) reached and the optimization hasn't converged yet.\n",
      "  warnings.warn(\n",
      "c:\\Users\\rapha\\AppData\\Local\\Programs\\Python\\Python312\\Lib\\site-packages\\sklearn\\neural_network\\_multilayer_perceptron.py:690: ConvergenceWarning: Stochastic Optimizer: Maximum iterations (200) reached and the optimization hasn't converged yet.\n",
      "  warnings.warn(\n"
     ]
    },
    {
     "name": "stdout",
     "output_type": "stream",
     "text": [
      "                                    UFV           UFL           PDI  \\\n",
      "LinearRegression          -1.323175e+23 -1.462733e+23 -3.852716e+22   \n",
      "Ridge                      7.719819e-01  7.642693e-01  9.154393e-01   \n",
      "SVR                        7.621541e-01  7.729550e-01  9.290498e-01   \n",
      "DecisionTreeRegressor      6.300024e-01  5.643341e-01  8.814116e-01   \n",
      "RandomForestRegressor      8.008735e-01  8.045252e-01  9.196154e-01   \n",
      "GradientBoostingRegressor  7.902764e-01  7.864537e-01  9.181252e-01   \n",
      "XGBRegressor               7.683867e-01  7.649744e-01  9.082117e-01   \n",
      "MLPRegressor               7.942465e-01  7.990715e-01  9.375258e-01   \n",
      "KNeighborsRegressor        7.812803e-01  7.772166e-01  8.914687e-01   \n",
      "\n",
      "                                    BPR  \n",
      "LinearRegression          -4.019014e+21  \n",
      "Ridge                      9.830976e-01  \n",
      "SVR                        9.448993e-01  \n",
      "DecisionTreeRegressor      9.654940e-01  \n",
      "RandomForestRegressor      9.798013e-01  \n",
      "GradientBoostingRegressor  9.832942e-01  \n",
      "XGBRegressor               9.801118e-01  \n",
      "MLPRegressor               9.732015e-01  \n",
      "KNeighborsRegressor        9.346833e-01  \n"
     ]
    }
   ],
   "source": [
    "X, y = Optimisation_sans_MCA_sans_PCA(2, target)\n",
    "df = PerfDesModeles(X, y, graph_affich=False)\n",
    "print(df)"
   ]
  },
  {
   "cell_type": "code",
   "execution_count": 84,
   "metadata": {},
   "outputs": [
    {
     "data": {
      "text/html": [
       "<div>\n",
       "<style scoped>\n",
       "    .dataframe tbody tr th:only-of-type {\n",
       "        vertical-align: middle;\n",
       "    }\n",
       "\n",
       "    .dataframe tbody tr th {\n",
       "        vertical-align: top;\n",
       "    }\n",
       "\n",
       "    .dataframe thead th {\n",
       "        text-align: right;\n",
       "    }\n",
       "</style>\n",
       "<table border=\"1\" class=\"dataframe\">\n",
       "  <thead>\n",
       "    <tr style=\"text-align: right;\">\n",
       "      <th></th>\n",
       "      <th>cible</th>\n",
       "      <th>Model</th>\n",
       "      <th>R2 Score</th>\n",
       "    </tr>\n",
       "  </thead>\n",
       "  <tbody>\n",
       "    <tr>\n",
       "      <th>0</th>\n",
       "      <td>UFV</td>\n",
       "      <td>RandomForestRegressor</td>\n",
       "      <td>0.808637</td>\n",
       "    </tr>\n",
       "    <tr>\n",
       "      <th>1</th>\n",
       "      <td>UFL</td>\n",
       "      <td>RandomForestRegressor</td>\n",
       "      <td>0.815939</td>\n",
       "    </tr>\n",
       "    <tr>\n",
       "      <th>2</th>\n",
       "      <td>PDI</td>\n",
       "      <td>MLPRegressor</td>\n",
       "      <td>0.942185</td>\n",
       "    </tr>\n",
       "    <tr>\n",
       "      <th>3</th>\n",
       "      <td>BPR</td>\n",
       "      <td>GradientBoostingRegressor</td>\n",
       "      <td>0.983239</td>\n",
       "    </tr>\n",
       "  </tbody>\n",
       "</table>\n",
       "</div>"
      ],
      "text/plain": [
       "  cible                      Model  R2 Score\n",
       "0   UFV      RandomForestRegressor  0.808637\n",
       "1   UFL      RandomForestRegressor  0.815939\n",
       "2   PDI               MLPRegressor  0.942185\n",
       "3   BPR  GradientBoostingRegressor  0.983239"
      ]
     },
     "execution_count": 84,
     "metadata": {},
     "output_type": "execute_result"
    }
   ],
   "source": [
    "best_model(df)"
   ]
  },
  {
   "cell_type": "code",
   "execution_count": 89,
   "metadata": {},
   "outputs": [
    {
     "name": "stdout",
     "output_type": "stream",
     "text": [
      "Colonne ADF : attention NA (3 valeurs manquantes)\n",
      "Colonne EE : attention NA (1 valeurs manquantes)\n"
     ]
    },
    {
     "name": "stderr",
     "output_type": "stream",
     "text": [
      "c:\\Users\\rapha\\AppData\\Local\\Programs\\Python\\Python312\\Lib\\site-packages\\sklearn\\neural_network\\_multilayer_perceptron.py:690: ConvergenceWarning: Stochastic Optimizer: Maximum iterations (200) reached and the optimization hasn't converged yet.\n",
      "  warnings.warn(\n",
      "c:\\Users\\rapha\\AppData\\Local\\Programs\\Python\\Python312\\Lib\\site-packages\\sklearn\\neural_network\\_multilayer_perceptron.py:690: ConvergenceWarning: Stochastic Optimizer: Maximum iterations (200) reached and the optimization hasn't converged yet.\n",
      "  warnings.warn(\n",
      "c:\\Users\\rapha\\AppData\\Local\\Programs\\Python\\Python312\\Lib\\site-packages\\sklearn\\neural_network\\_multilayer_perceptron.py:690: ConvergenceWarning: Stochastic Optimizer: Maximum iterations (200) reached and the optimization hasn't converged yet.\n",
      "  warnings.warn(\n",
      "c:\\Users\\rapha\\AppData\\Local\\Programs\\Python\\Python312\\Lib\\site-packages\\sklearn\\neural_network\\_multilayer_perceptron.py:690: ConvergenceWarning: Stochastic Optimizer: Maximum iterations (200) reached and the optimization hasn't converged yet.\n",
      "  warnings.warn(\n",
      "c:\\Users\\rapha\\AppData\\Local\\Programs\\Python\\Python312\\Lib\\site-packages\\sklearn\\neural_network\\_multilayer_perceptron.py:690: ConvergenceWarning: Stochastic Optimizer: Maximum iterations (200) reached and the optimization hasn't converged yet.\n",
      "  warnings.warn(\n",
      "c:\\Users\\rapha\\AppData\\Local\\Programs\\Python\\Python312\\Lib\\site-packages\\sklearn\\neural_network\\_multilayer_perceptron.py:690: ConvergenceWarning: Stochastic Optimizer: Maximum iterations (200) reached and the optimization hasn't converged yet.\n",
      "  warnings.warn(\n",
      "c:\\Users\\rapha\\AppData\\Local\\Programs\\Python\\Python312\\Lib\\site-packages\\sklearn\\neural_network\\_multilayer_perceptron.py:690: ConvergenceWarning: Stochastic Optimizer: Maximum iterations (200) reached and the optimization hasn't converged yet.\n",
      "  warnings.warn(\n",
      "c:\\Users\\rapha\\AppData\\Local\\Programs\\Python\\Python312\\Lib\\site-packages\\sklearn\\neural_network\\_multilayer_perceptron.py:690: ConvergenceWarning: Stochastic Optimizer: Maximum iterations (200) reached and the optimization hasn't converged yet.\n",
      "  warnings.warn(\n",
      "c:\\Users\\rapha\\AppData\\Local\\Programs\\Python\\Python312\\Lib\\site-packages\\sklearn\\neural_network\\_multilayer_perceptron.py:690: ConvergenceWarning: Stochastic Optimizer: Maximum iterations (200) reached and the optimization hasn't converged yet.\n",
      "  warnings.warn(\n",
      "c:\\Users\\rapha\\AppData\\Local\\Programs\\Python\\Python312\\Lib\\site-packages\\sklearn\\neural_network\\_multilayer_perceptron.py:690: ConvergenceWarning: Stochastic Optimizer: Maximum iterations (200) reached and the optimization hasn't converged yet.\n",
      "  warnings.warn(\n",
      "c:\\Users\\rapha\\AppData\\Local\\Programs\\Python\\Python312\\Lib\\site-packages\\sklearn\\neural_network\\_multilayer_perceptron.py:690: ConvergenceWarning: Stochastic Optimizer: Maximum iterations (200) reached and the optimization hasn't converged yet.\n",
      "  warnings.warn(\n",
      "c:\\Users\\rapha\\AppData\\Local\\Programs\\Python\\Python312\\Lib\\site-packages\\sklearn\\neural_network\\_multilayer_perceptron.py:690: ConvergenceWarning: Stochastic Optimizer: Maximum iterations (200) reached and the optimization hasn't converged yet.\n",
      "  warnings.warn(\n",
      "c:\\Users\\rapha\\AppData\\Local\\Programs\\Python\\Python312\\Lib\\site-packages\\sklearn\\neural_network\\_multilayer_perceptron.py:690: ConvergenceWarning: Stochastic Optimizer: Maximum iterations (200) reached and the optimization hasn't converged yet.\n",
      "  warnings.warn(\n",
      "c:\\Users\\rapha\\AppData\\Local\\Programs\\Python\\Python312\\Lib\\site-packages\\sklearn\\neural_network\\_multilayer_perceptron.py:690: ConvergenceWarning: Stochastic Optimizer: Maximum iterations (200) reached and the optimization hasn't converged yet.\n",
      "  warnings.warn(\n",
      "c:\\Users\\rapha\\AppData\\Local\\Programs\\Python\\Python312\\Lib\\site-packages\\sklearn\\neural_network\\_multilayer_perceptron.py:690: ConvergenceWarning: Stochastic Optimizer: Maximum iterations (200) reached and the optimization hasn't converged yet.\n",
      "  warnings.warn(\n",
      "c:\\Users\\rapha\\AppData\\Local\\Programs\\Python\\Python312\\Lib\\site-packages\\sklearn\\neural_network\\_multilayer_perceptron.py:690: ConvergenceWarning: Stochastic Optimizer: Maximum iterations (200) reached and the optimization hasn't converged yet.\n",
      "  warnings.warn(\n",
      "c:\\Users\\rapha\\AppData\\Local\\Programs\\Python\\Python312\\Lib\\site-packages\\sklearn\\neural_network\\_multilayer_perceptron.py:690: ConvergenceWarning: Stochastic Optimizer: Maximum iterations (200) reached and the optimization hasn't converged yet.\n",
      "  warnings.warn(\n"
     ]
    },
    {
     "name": "stdout",
     "output_type": "stream",
     "text": [
      "                                    UFV           UFL           PDI  \\\n",
      "LinearRegression           1.261386e+11  4.146381e+10  5.541499e+10   \n",
      "Ridge                      1.183000e+00  1.303300e+00  6.609000e-01   \n",
      "SVR                        1.046600e+00  1.121400e+00  5.514000e-01   \n",
      "DecisionTreeRegressor      1.500200e+00  1.501800e+00  8.695000e-01   \n",
      "RandomForestRegressor      1.179200e+00  1.204000e+00  6.136000e-01   \n",
      "GradientBoostingRegressor  1.253400e+00  1.248900e+00  6.331000e-01   \n",
      "XGBRegressor               1.149400e+00  1.243500e+00  6.464000e-01   \n",
      "MLPRegressor               1.132300e+00  1.262900e+00  5.749000e-01   \n",
      "KNeighborsRegressor        1.296100e+00  1.366300e+00  8.841000e-01   \n",
      "\n",
      "                                    BPR  \n",
      "LinearRegression           1.463560e+09  \n",
      "Ridge                      4.527000e-01  \n",
      "SVR                        4.062000e-01  \n",
      "DecisionTreeRegressor      7.806000e-01  \n",
      "RandomForestRegressor      4.937000e-01  \n",
      "GradientBoostingRegressor  4.493000e-01  \n",
      "XGBRegressor               5.553000e-01  \n",
      "MLPRegressor               4.583000e-01  \n",
      "KNeighborsRegressor        8.284000e-01  \n"
     ]
    }
   ],
   "source": [
    "X, y = Optimisation_sans_MCA_sans_PCA(2, target)\n",
    "df = PerfDesModeles2(X, y, cv = 2, graph_affich=False)\n",
    "print(df)"
   ]
  },
  {
   "cell_type": "code",
   "execution_count": 92,
   "metadata": {},
   "outputs": [
    {
     "data": {
      "text/html": [
       "<div>\n",
       "<style scoped>\n",
       "    .dataframe tbody tr th:only-of-type {\n",
       "        vertical-align: middle;\n",
       "    }\n",
       "\n",
       "    .dataframe tbody tr th {\n",
       "        vertical-align: top;\n",
       "    }\n",
       "\n",
       "    .dataframe thead th {\n",
       "        text-align: right;\n",
       "    }\n",
       "</style>\n",
       "<table border=\"1\" class=\"dataframe\">\n",
       "  <thead>\n",
       "    <tr style=\"text-align: right;\">\n",
       "      <th></th>\n",
       "      <th>cible</th>\n",
       "      <th>Model</th>\n",
       "      <th>neg_mean_absolute_percentage_error score</th>\n",
       "    </tr>\n",
       "  </thead>\n",
       "  <tbody>\n",
       "    <tr>\n",
       "      <th>0</th>\n",
       "      <td>UFV</td>\n",
       "      <td>SVR</td>\n",
       "      <td>1.0466</td>\n",
       "    </tr>\n",
       "    <tr>\n",
       "      <th>1</th>\n",
       "      <td>UFL</td>\n",
       "      <td>SVR</td>\n",
       "      <td>1.1214</td>\n",
       "    </tr>\n",
       "    <tr>\n",
       "      <th>2</th>\n",
       "      <td>PDI</td>\n",
       "      <td>SVR</td>\n",
       "      <td>0.5514</td>\n",
       "    </tr>\n",
       "    <tr>\n",
       "      <th>3</th>\n",
       "      <td>BPR</td>\n",
       "      <td>SVR</td>\n",
       "      <td>0.4062</td>\n",
       "    </tr>\n",
       "  </tbody>\n",
       "</table>\n",
       "</div>"
      ],
      "text/plain": [
       "  cible Model  neg_mean_absolute_percentage_error score\n",
       "0   UFV   SVR                                    1.0466\n",
       "1   UFL   SVR                                    1.1214\n",
       "2   PDI   SVR                                    0.5514\n",
       "3   BPR   SVR                                    0.4062"
      ]
     },
     "execution_count": 92,
     "metadata": {},
     "output_type": "execute_result"
    }
   ],
   "source": [
    "best_model2(df)"
   ]
  },
  {
   "cell_type": "markdown",
   "metadata": {},
   "source": [
    "# Réalisation du plot"
   ]
  },
  {
   "cell_type": "code",
   "execution_count": 93,
   "metadata": {},
   "outputs": [
    {
     "ename": "KeyboardInterrupt",
     "evalue": "",
     "output_type": "error",
     "traceback": [
      "\u001b[1;31m---------------------------------------------------------------------------\u001b[0m",
      "\u001b[1;31mKeyboardInterrupt\u001b[0m                         Traceback (most recent call last)",
      "Cell \u001b[1;32mIn[93], line 22\u001b[0m\n\u001b[0;32m     14\u001b[0m \u001b[38;5;66;03m# # Seulement les variables numériques\u001b[39;00m\n\u001b[0;32m     15\u001b[0m \u001b[38;5;66;03m# X_temp, Y_temp = OptimisationNumOny(target)\u001b[39;00m\n\u001b[0;32m     16\u001b[0m \u001b[38;5;66;03m# df_temp = PerfDesModeles(X_temp, Y_temp, metrique_num=True, graph_affich=False)\u001b[39;00m\n\u001b[1;32m   (...)\u001b[0m\n\u001b[0;32m     19\u001b[0m \n\u001b[0;32m     20\u001b[0m \u001b[38;5;66;03m# Seulement les variables catégorielles OneHot encodé\u001b[39;00m\n\u001b[0;32m     21\u001b[0m X_temp, Y_temp \u001b[38;5;241m=\u001b[39m OptimisationOneHot(i, target)\n\u001b[1;32m---> 22\u001b[0m df_temp \u001b[38;5;241m=\u001b[39m \u001b[43mPerfDesModeles2\u001b[49m\u001b[43m(\u001b[49m\u001b[43mX_temp\u001b[49m\u001b[43m,\u001b[49m\u001b[43m \u001b[49m\u001b[43mY_temp\u001b[49m\u001b[43m,\u001b[49m\u001b[43m \u001b[49m\u001b[43mmetrique_num\u001b[49m\u001b[38;5;241;43m=\u001b[39;49m\u001b[38;5;28;43;01mTrue\u001b[39;49;00m\u001b[43m,\u001b[49m\u001b[43m \u001b[49m\u001b[43mgraph_affich\u001b[49m\u001b[38;5;241;43m=\u001b[39;49m\u001b[38;5;28;43;01mFalse\u001b[39;49;00m\u001b[43m)\u001b[49m\n\u001b[0;32m     23\u001b[0m df_temp \u001b[38;5;241m=\u001b[39m best_model2(df_temp)\n\u001b[0;32m     24\u001b[0m score_OptimisationOneHot\u001b[38;5;241m.\u001b[39mappend(df_temp[\u001b[38;5;124m\"\u001b[39m\u001b[38;5;124mneg_mean_absolute_percentage_error score\u001b[39m\u001b[38;5;124m\"\u001b[39m]\u001b[38;5;241m.\u001b[39mmean())\n",
      "Cell \u001b[1;32mIn[87], line 33\u001b[0m, in \u001b[0;36mPerfDesModeles2\u001b[1;34m(X_t, Y_t, cv, metrique_num, graph_affich)\u001b[0m\n\u001b[0;32m     27\u001b[0m \u001b[38;5;28;01mfor\u001b[39;00m model \u001b[38;5;129;01min\u001b[39;00m models:\n\u001b[0;32m     28\u001b[0m     \u001b[38;5;66;03m# Calcul des scores via cross-validation\u001b[39;00m\n\u001b[0;32m     29\u001b[0m     neg_mean_absolute_percentage_error_scores \u001b[38;5;241m=\u001b[39m cross_val_score(\n\u001b[0;32m     30\u001b[0m         model, X_t, Y_t_temp, cv\u001b[38;5;241m=\u001b[39mkf,\n\u001b[0;32m     31\u001b[0m         scoring\u001b[38;5;241m=\u001b[39m\u001b[38;5;124m\"\u001b[39m\u001b[38;5;124mneg_mean_absolute_percentage_error\u001b[39m\u001b[38;5;124m\"\u001b[39m\n\u001b[0;32m     32\u001b[0m     )\n\u001b[1;32m---> 33\u001b[0m     max_error_scores \u001b[38;5;241m=\u001b[39m \u001b[43mcross_val_score\u001b[49m\u001b[43m(\u001b[49m\n\u001b[0;32m     34\u001b[0m \u001b[43m        \u001b[49m\u001b[43mmodel\u001b[49m\u001b[43m,\u001b[49m\u001b[43m \u001b[49m\u001b[43mX_t\u001b[49m\u001b[43m,\u001b[49m\u001b[43m \u001b[49m\u001b[43mY_t_temp\u001b[49m\u001b[43m,\u001b[49m\u001b[43m \u001b[49m\u001b[43mcv\u001b[49m\u001b[38;5;241;43m=\u001b[39;49m\u001b[43mkf\u001b[49m\u001b[43m,\u001b[49m\n\u001b[0;32m     35\u001b[0m \u001b[43m        \u001b[49m\u001b[43mscoring\u001b[49m\u001b[38;5;241;43m=\u001b[39;49m\u001b[38;5;124;43m\"\u001b[39;49m\u001b[38;5;124;43mmax_error\u001b[39;49m\u001b[38;5;124;43m\"\u001b[39;49m\n\u001b[0;32m     36\u001b[0m \u001b[43m    \u001b[49m\u001b[43m)\u001b[49m\n\u001b[0;32m     37\u001b[0m     mae_scores \u001b[38;5;241m=\u001b[39m cross_val_score(\n\u001b[0;32m     38\u001b[0m         model, X_t, Y_t_temp, cv\u001b[38;5;241m=\u001b[39mkf,\n\u001b[0;32m     39\u001b[0m         scoring\u001b[38;5;241m=\u001b[39m\u001b[38;5;124m\"\u001b[39m\u001b[38;5;124mneg_mean_absolute_error\u001b[39m\u001b[38;5;124m\"\u001b[39m\n\u001b[0;32m     40\u001b[0m     )\n\u001b[0;32m     41\u001b[0m     r2_scores \u001b[38;5;241m=\u001b[39m cross_val_score(\n\u001b[0;32m     42\u001b[0m         model, X_t, Y_t_temp, cv\u001b[38;5;241m=\u001b[39mkf,\n\u001b[0;32m     43\u001b[0m         scoring\u001b[38;5;241m=\u001b[39m\u001b[38;5;124m\"\u001b[39m\u001b[38;5;124mr2\u001b[39m\u001b[38;5;124m\"\u001b[39m\n\u001b[0;32m     44\u001b[0m     )\n",
      "File \u001b[1;32mc:\\Users\\rapha\\AppData\\Local\\Programs\\Python\\Python312\\Lib\\site-packages\\sklearn\\utils\\_param_validation.py:213\u001b[0m, in \u001b[0;36mvalidate_params.<locals>.decorator.<locals>.wrapper\u001b[1;34m(*args, **kwargs)\u001b[0m\n\u001b[0;32m    207\u001b[0m \u001b[38;5;28;01mtry\u001b[39;00m:\n\u001b[0;32m    208\u001b[0m     \u001b[38;5;28;01mwith\u001b[39;00m config_context(\n\u001b[0;32m    209\u001b[0m         skip_parameter_validation\u001b[38;5;241m=\u001b[39m(\n\u001b[0;32m    210\u001b[0m             prefer_skip_nested_validation \u001b[38;5;129;01mor\u001b[39;00m global_skip_validation\n\u001b[0;32m    211\u001b[0m         )\n\u001b[0;32m    212\u001b[0m     ):\n\u001b[1;32m--> 213\u001b[0m         \u001b[38;5;28;01mreturn\u001b[39;00m \u001b[43mfunc\u001b[49m\u001b[43m(\u001b[49m\u001b[38;5;241;43m*\u001b[39;49m\u001b[43margs\u001b[49m\u001b[43m,\u001b[49m\u001b[43m \u001b[49m\u001b[38;5;241;43m*\u001b[39;49m\u001b[38;5;241;43m*\u001b[39;49m\u001b[43mkwargs\u001b[49m\u001b[43m)\u001b[49m\n\u001b[0;32m    214\u001b[0m \u001b[38;5;28;01mexcept\u001b[39;00m InvalidParameterError \u001b[38;5;28;01mas\u001b[39;00m e:\n\u001b[0;32m    215\u001b[0m     \u001b[38;5;66;03m# When the function is just a wrapper around an estimator, we allow\u001b[39;00m\n\u001b[0;32m    216\u001b[0m     \u001b[38;5;66;03m# the function to delegate validation to the estimator, but we replace\u001b[39;00m\n\u001b[0;32m    217\u001b[0m     \u001b[38;5;66;03m# the name of the estimator by the name of the function in the error\u001b[39;00m\n\u001b[0;32m    218\u001b[0m     \u001b[38;5;66;03m# message to avoid confusion.\u001b[39;00m\n\u001b[0;32m    219\u001b[0m     msg \u001b[38;5;241m=\u001b[39m re\u001b[38;5;241m.\u001b[39msub(\n\u001b[0;32m    220\u001b[0m         \u001b[38;5;124mr\u001b[39m\u001b[38;5;124m\"\u001b[39m\u001b[38;5;124mparameter of \u001b[39m\u001b[38;5;124m\\\u001b[39m\u001b[38;5;124mw+ must be\u001b[39m\u001b[38;5;124m\"\u001b[39m,\n\u001b[0;32m    221\u001b[0m         \u001b[38;5;124mf\u001b[39m\u001b[38;5;124m\"\u001b[39m\u001b[38;5;124mparameter of \u001b[39m\u001b[38;5;132;01m{\u001b[39;00mfunc\u001b[38;5;241m.\u001b[39m\u001b[38;5;18m__qualname__\u001b[39m\u001b[38;5;132;01m}\u001b[39;00m\u001b[38;5;124m must be\u001b[39m\u001b[38;5;124m\"\u001b[39m,\n\u001b[0;32m    222\u001b[0m         \u001b[38;5;28mstr\u001b[39m(e),\n\u001b[0;32m    223\u001b[0m     )\n",
      "File \u001b[1;32mc:\\Users\\rapha\\AppData\\Local\\Programs\\Python\\Python312\\Lib\\site-packages\\sklearn\\model_selection\\_validation.py:712\u001b[0m, in \u001b[0;36mcross_val_score\u001b[1;34m(estimator, X, y, groups, scoring, cv, n_jobs, verbose, fit_params, params, pre_dispatch, error_score)\u001b[0m\n\u001b[0;32m    709\u001b[0m \u001b[38;5;66;03m# To ensure multimetric format is not supported\u001b[39;00m\n\u001b[0;32m    710\u001b[0m scorer \u001b[38;5;241m=\u001b[39m check_scoring(estimator, scoring\u001b[38;5;241m=\u001b[39mscoring)\n\u001b[1;32m--> 712\u001b[0m cv_results \u001b[38;5;241m=\u001b[39m \u001b[43mcross_validate\u001b[49m\u001b[43m(\u001b[49m\n\u001b[0;32m    713\u001b[0m \u001b[43m    \u001b[49m\u001b[43mestimator\u001b[49m\u001b[38;5;241;43m=\u001b[39;49m\u001b[43mestimator\u001b[49m\u001b[43m,\u001b[49m\n\u001b[0;32m    714\u001b[0m \u001b[43m    \u001b[49m\u001b[43mX\u001b[49m\u001b[38;5;241;43m=\u001b[39;49m\u001b[43mX\u001b[49m\u001b[43m,\u001b[49m\n\u001b[0;32m    715\u001b[0m \u001b[43m    \u001b[49m\u001b[43my\u001b[49m\u001b[38;5;241;43m=\u001b[39;49m\u001b[43my\u001b[49m\u001b[43m,\u001b[49m\n\u001b[0;32m    716\u001b[0m \u001b[43m    \u001b[49m\u001b[43mgroups\u001b[49m\u001b[38;5;241;43m=\u001b[39;49m\u001b[43mgroups\u001b[49m\u001b[43m,\u001b[49m\n\u001b[0;32m    717\u001b[0m \u001b[43m    \u001b[49m\u001b[43mscoring\u001b[49m\u001b[38;5;241;43m=\u001b[39;49m\u001b[43m{\u001b[49m\u001b[38;5;124;43m\"\u001b[39;49m\u001b[38;5;124;43mscore\u001b[39;49m\u001b[38;5;124;43m\"\u001b[39;49m\u001b[43m:\u001b[49m\u001b[43m \u001b[49m\u001b[43mscorer\u001b[49m\u001b[43m}\u001b[49m\u001b[43m,\u001b[49m\n\u001b[0;32m    718\u001b[0m \u001b[43m    \u001b[49m\u001b[43mcv\u001b[49m\u001b[38;5;241;43m=\u001b[39;49m\u001b[43mcv\u001b[49m\u001b[43m,\u001b[49m\n\u001b[0;32m    719\u001b[0m \u001b[43m    \u001b[49m\u001b[43mn_jobs\u001b[49m\u001b[38;5;241;43m=\u001b[39;49m\u001b[43mn_jobs\u001b[49m\u001b[43m,\u001b[49m\n\u001b[0;32m    720\u001b[0m \u001b[43m    \u001b[49m\u001b[43mverbose\u001b[49m\u001b[38;5;241;43m=\u001b[39;49m\u001b[43mverbose\u001b[49m\u001b[43m,\u001b[49m\n\u001b[0;32m    721\u001b[0m \u001b[43m    \u001b[49m\u001b[43mfit_params\u001b[49m\u001b[38;5;241;43m=\u001b[39;49m\u001b[43mfit_params\u001b[49m\u001b[43m,\u001b[49m\n\u001b[0;32m    722\u001b[0m \u001b[43m    \u001b[49m\u001b[43mparams\u001b[49m\u001b[38;5;241;43m=\u001b[39;49m\u001b[43mparams\u001b[49m\u001b[43m,\u001b[49m\n\u001b[0;32m    723\u001b[0m \u001b[43m    \u001b[49m\u001b[43mpre_dispatch\u001b[49m\u001b[38;5;241;43m=\u001b[39;49m\u001b[43mpre_dispatch\u001b[49m\u001b[43m,\u001b[49m\n\u001b[0;32m    724\u001b[0m \u001b[43m    \u001b[49m\u001b[43merror_score\u001b[49m\u001b[38;5;241;43m=\u001b[39;49m\u001b[43merror_score\u001b[49m\u001b[43m,\u001b[49m\n\u001b[0;32m    725\u001b[0m \u001b[43m\u001b[49m\u001b[43m)\u001b[49m\n\u001b[0;32m    726\u001b[0m \u001b[38;5;28;01mreturn\u001b[39;00m cv_results[\u001b[38;5;124m\"\u001b[39m\u001b[38;5;124mtest_score\u001b[39m\u001b[38;5;124m\"\u001b[39m]\n",
      "File \u001b[1;32mc:\\Users\\rapha\\AppData\\Local\\Programs\\Python\\Python312\\Lib\\site-packages\\sklearn\\utils\\_param_validation.py:213\u001b[0m, in \u001b[0;36mvalidate_params.<locals>.decorator.<locals>.wrapper\u001b[1;34m(*args, **kwargs)\u001b[0m\n\u001b[0;32m    207\u001b[0m \u001b[38;5;28;01mtry\u001b[39;00m:\n\u001b[0;32m    208\u001b[0m     \u001b[38;5;28;01mwith\u001b[39;00m config_context(\n\u001b[0;32m    209\u001b[0m         skip_parameter_validation\u001b[38;5;241m=\u001b[39m(\n\u001b[0;32m    210\u001b[0m             prefer_skip_nested_validation \u001b[38;5;129;01mor\u001b[39;00m global_skip_validation\n\u001b[0;32m    211\u001b[0m         )\n\u001b[0;32m    212\u001b[0m     ):\n\u001b[1;32m--> 213\u001b[0m         \u001b[38;5;28;01mreturn\u001b[39;00m \u001b[43mfunc\u001b[49m\u001b[43m(\u001b[49m\u001b[38;5;241;43m*\u001b[39;49m\u001b[43margs\u001b[49m\u001b[43m,\u001b[49m\u001b[43m \u001b[49m\u001b[38;5;241;43m*\u001b[39;49m\u001b[38;5;241;43m*\u001b[39;49m\u001b[43mkwargs\u001b[49m\u001b[43m)\u001b[49m\n\u001b[0;32m    214\u001b[0m \u001b[38;5;28;01mexcept\u001b[39;00m InvalidParameterError \u001b[38;5;28;01mas\u001b[39;00m e:\n\u001b[0;32m    215\u001b[0m     \u001b[38;5;66;03m# When the function is just a wrapper around an estimator, we allow\u001b[39;00m\n\u001b[0;32m    216\u001b[0m     \u001b[38;5;66;03m# the function to delegate validation to the estimator, but we replace\u001b[39;00m\n\u001b[0;32m    217\u001b[0m     \u001b[38;5;66;03m# the name of the estimator by the name of the function in the error\u001b[39;00m\n\u001b[0;32m    218\u001b[0m     \u001b[38;5;66;03m# message to avoid confusion.\u001b[39;00m\n\u001b[0;32m    219\u001b[0m     msg \u001b[38;5;241m=\u001b[39m re\u001b[38;5;241m.\u001b[39msub(\n\u001b[0;32m    220\u001b[0m         \u001b[38;5;124mr\u001b[39m\u001b[38;5;124m\"\u001b[39m\u001b[38;5;124mparameter of \u001b[39m\u001b[38;5;124m\\\u001b[39m\u001b[38;5;124mw+ must be\u001b[39m\u001b[38;5;124m\"\u001b[39m,\n\u001b[0;32m    221\u001b[0m         \u001b[38;5;124mf\u001b[39m\u001b[38;5;124m\"\u001b[39m\u001b[38;5;124mparameter of \u001b[39m\u001b[38;5;132;01m{\u001b[39;00mfunc\u001b[38;5;241m.\u001b[39m\u001b[38;5;18m__qualname__\u001b[39m\u001b[38;5;132;01m}\u001b[39;00m\u001b[38;5;124m must be\u001b[39m\u001b[38;5;124m\"\u001b[39m,\n\u001b[0;32m    222\u001b[0m         \u001b[38;5;28mstr\u001b[39m(e),\n\u001b[0;32m    223\u001b[0m     )\n",
      "File \u001b[1;32mc:\\Users\\rapha\\AppData\\Local\\Programs\\Python\\Python312\\Lib\\site-packages\\sklearn\\model_selection\\_validation.py:423\u001b[0m, in \u001b[0;36mcross_validate\u001b[1;34m(estimator, X, y, groups, scoring, cv, n_jobs, verbose, fit_params, params, pre_dispatch, return_train_score, return_estimator, return_indices, error_score)\u001b[0m\n\u001b[0;32m    420\u001b[0m \u001b[38;5;66;03m# We clone the estimator to make sure that all the folds are\u001b[39;00m\n\u001b[0;32m    421\u001b[0m \u001b[38;5;66;03m# independent, and that it is pickle-able.\u001b[39;00m\n\u001b[0;32m    422\u001b[0m parallel \u001b[38;5;241m=\u001b[39m Parallel(n_jobs\u001b[38;5;241m=\u001b[39mn_jobs, verbose\u001b[38;5;241m=\u001b[39mverbose, pre_dispatch\u001b[38;5;241m=\u001b[39mpre_dispatch)\n\u001b[1;32m--> 423\u001b[0m results \u001b[38;5;241m=\u001b[39m \u001b[43mparallel\u001b[49m\u001b[43m(\u001b[49m\n\u001b[0;32m    424\u001b[0m \u001b[43m    \u001b[49m\u001b[43mdelayed\u001b[49m\u001b[43m(\u001b[49m\u001b[43m_fit_and_score\u001b[49m\u001b[43m)\u001b[49m\u001b[43m(\u001b[49m\n\u001b[0;32m    425\u001b[0m \u001b[43m        \u001b[49m\u001b[43mclone\u001b[49m\u001b[43m(\u001b[49m\u001b[43mestimator\u001b[49m\u001b[43m)\u001b[49m\u001b[43m,\u001b[49m\n\u001b[0;32m    426\u001b[0m \u001b[43m        \u001b[49m\u001b[43mX\u001b[49m\u001b[43m,\u001b[49m\n\u001b[0;32m    427\u001b[0m \u001b[43m        \u001b[49m\u001b[43my\u001b[49m\u001b[43m,\u001b[49m\n\u001b[0;32m    428\u001b[0m \u001b[43m        \u001b[49m\u001b[43mscorer\u001b[49m\u001b[38;5;241;43m=\u001b[39;49m\u001b[43mscorers\u001b[49m\u001b[43m,\u001b[49m\n\u001b[0;32m    429\u001b[0m \u001b[43m        \u001b[49m\u001b[43mtrain\u001b[49m\u001b[38;5;241;43m=\u001b[39;49m\u001b[43mtrain\u001b[49m\u001b[43m,\u001b[49m\n\u001b[0;32m    430\u001b[0m \u001b[43m        \u001b[49m\u001b[43mtest\u001b[49m\u001b[38;5;241;43m=\u001b[39;49m\u001b[43mtest\u001b[49m\u001b[43m,\u001b[49m\n\u001b[0;32m    431\u001b[0m \u001b[43m        \u001b[49m\u001b[43mverbose\u001b[49m\u001b[38;5;241;43m=\u001b[39;49m\u001b[43mverbose\u001b[49m\u001b[43m,\u001b[49m\n\u001b[0;32m    432\u001b[0m \u001b[43m        \u001b[49m\u001b[43mparameters\u001b[49m\u001b[38;5;241;43m=\u001b[39;49m\u001b[38;5;28;43;01mNone\u001b[39;49;00m\u001b[43m,\u001b[49m\n\u001b[0;32m    433\u001b[0m \u001b[43m        \u001b[49m\u001b[43mfit_params\u001b[49m\u001b[38;5;241;43m=\u001b[39;49m\u001b[43mrouted_params\u001b[49m\u001b[38;5;241;43m.\u001b[39;49m\u001b[43mestimator\u001b[49m\u001b[38;5;241;43m.\u001b[39;49m\u001b[43mfit\u001b[49m\u001b[43m,\u001b[49m\n\u001b[0;32m    434\u001b[0m \u001b[43m        \u001b[49m\u001b[43mscore_params\u001b[49m\u001b[38;5;241;43m=\u001b[39;49m\u001b[43mrouted_params\u001b[49m\u001b[38;5;241;43m.\u001b[39;49m\u001b[43mscorer\u001b[49m\u001b[38;5;241;43m.\u001b[39;49m\u001b[43mscore\u001b[49m\u001b[43m,\u001b[49m\n\u001b[0;32m    435\u001b[0m \u001b[43m        \u001b[49m\u001b[43mreturn_train_score\u001b[49m\u001b[38;5;241;43m=\u001b[39;49m\u001b[43mreturn_train_score\u001b[49m\u001b[43m,\u001b[49m\n\u001b[0;32m    436\u001b[0m \u001b[43m        \u001b[49m\u001b[43mreturn_times\u001b[49m\u001b[38;5;241;43m=\u001b[39;49m\u001b[38;5;28;43;01mTrue\u001b[39;49;00m\u001b[43m,\u001b[49m\n\u001b[0;32m    437\u001b[0m \u001b[43m        \u001b[49m\u001b[43mreturn_estimator\u001b[49m\u001b[38;5;241;43m=\u001b[39;49m\u001b[43mreturn_estimator\u001b[49m\u001b[43m,\u001b[49m\n\u001b[0;32m    438\u001b[0m \u001b[43m        \u001b[49m\u001b[43merror_score\u001b[49m\u001b[38;5;241;43m=\u001b[39;49m\u001b[43merror_score\u001b[49m\u001b[43m,\u001b[49m\n\u001b[0;32m    439\u001b[0m \u001b[43m    \u001b[49m\u001b[43m)\u001b[49m\n\u001b[0;32m    440\u001b[0m \u001b[43m    \u001b[49m\u001b[38;5;28;43;01mfor\u001b[39;49;00m\u001b[43m \u001b[49m\u001b[43mtrain\u001b[49m\u001b[43m,\u001b[49m\u001b[43m \u001b[49m\u001b[43mtest\u001b[49m\u001b[43m \u001b[49m\u001b[38;5;129;43;01min\u001b[39;49;00m\u001b[43m \u001b[49m\u001b[43mindices\u001b[49m\n\u001b[0;32m    441\u001b[0m \u001b[43m\u001b[49m\u001b[43m)\u001b[49m\n\u001b[0;32m    443\u001b[0m _warn_or_raise_about_fit_failures(results, error_score)\n\u001b[0;32m    445\u001b[0m \u001b[38;5;66;03m# For callable scoring, the return type is only know after calling. If the\u001b[39;00m\n\u001b[0;32m    446\u001b[0m \u001b[38;5;66;03m# return type is a dictionary, the error scores can now be inserted with\u001b[39;00m\n\u001b[0;32m    447\u001b[0m \u001b[38;5;66;03m# the correct key.\u001b[39;00m\n",
      "File \u001b[1;32mc:\\Users\\rapha\\AppData\\Local\\Programs\\Python\\Python312\\Lib\\site-packages\\sklearn\\utils\\parallel.py:74\u001b[0m, in \u001b[0;36mParallel.__call__\u001b[1;34m(self, iterable)\u001b[0m\n\u001b[0;32m     69\u001b[0m config \u001b[38;5;241m=\u001b[39m get_config()\n\u001b[0;32m     70\u001b[0m iterable_with_config \u001b[38;5;241m=\u001b[39m (\n\u001b[0;32m     71\u001b[0m     (_with_config(delayed_func, config), args, kwargs)\n\u001b[0;32m     72\u001b[0m     \u001b[38;5;28;01mfor\u001b[39;00m delayed_func, args, kwargs \u001b[38;5;129;01min\u001b[39;00m iterable\n\u001b[0;32m     73\u001b[0m )\n\u001b[1;32m---> 74\u001b[0m \u001b[38;5;28;01mreturn\u001b[39;00m \u001b[38;5;28;43msuper\u001b[39;49m\u001b[43m(\u001b[49m\u001b[43m)\u001b[49m\u001b[38;5;241;43m.\u001b[39;49m\u001b[38;5;21;43m__call__\u001b[39;49m\u001b[43m(\u001b[49m\u001b[43miterable_with_config\u001b[49m\u001b[43m)\u001b[49m\n",
      "File \u001b[1;32mc:\\Users\\rapha\\AppData\\Local\\Programs\\Python\\Python312\\Lib\\site-packages\\joblib\\parallel.py:1918\u001b[0m, in \u001b[0;36mParallel.__call__\u001b[1;34m(self, iterable)\u001b[0m\n\u001b[0;32m   1916\u001b[0m     output \u001b[38;5;241m=\u001b[39m \u001b[38;5;28mself\u001b[39m\u001b[38;5;241m.\u001b[39m_get_sequential_output(iterable)\n\u001b[0;32m   1917\u001b[0m     \u001b[38;5;28mnext\u001b[39m(output)\n\u001b[1;32m-> 1918\u001b[0m     \u001b[38;5;28;01mreturn\u001b[39;00m output \u001b[38;5;28;01mif\u001b[39;00m \u001b[38;5;28mself\u001b[39m\u001b[38;5;241m.\u001b[39mreturn_generator \u001b[38;5;28;01melse\u001b[39;00m \u001b[38;5;28;43mlist\u001b[39;49m\u001b[43m(\u001b[49m\u001b[43moutput\u001b[49m\u001b[43m)\u001b[49m\n\u001b[0;32m   1920\u001b[0m \u001b[38;5;66;03m# Let's create an ID that uniquely identifies the current call. If the\u001b[39;00m\n\u001b[0;32m   1921\u001b[0m \u001b[38;5;66;03m# call is interrupted early and that the same instance is immediately\u001b[39;00m\n\u001b[0;32m   1922\u001b[0m \u001b[38;5;66;03m# re-used, this id will be used to prevent workers that were\u001b[39;00m\n\u001b[0;32m   1923\u001b[0m \u001b[38;5;66;03m# concurrently finalizing a task from the previous call to run the\u001b[39;00m\n\u001b[0;32m   1924\u001b[0m \u001b[38;5;66;03m# callback.\u001b[39;00m\n\u001b[0;32m   1925\u001b[0m \u001b[38;5;28;01mwith\u001b[39;00m \u001b[38;5;28mself\u001b[39m\u001b[38;5;241m.\u001b[39m_lock:\n",
      "File \u001b[1;32mc:\\Users\\rapha\\AppData\\Local\\Programs\\Python\\Python312\\Lib\\site-packages\\joblib\\parallel.py:1847\u001b[0m, in \u001b[0;36mParallel._get_sequential_output\u001b[1;34m(self, iterable)\u001b[0m\n\u001b[0;32m   1845\u001b[0m \u001b[38;5;28mself\u001b[39m\u001b[38;5;241m.\u001b[39mn_dispatched_batches \u001b[38;5;241m+\u001b[39m\u001b[38;5;241m=\u001b[39m \u001b[38;5;241m1\u001b[39m\n\u001b[0;32m   1846\u001b[0m \u001b[38;5;28mself\u001b[39m\u001b[38;5;241m.\u001b[39mn_dispatched_tasks \u001b[38;5;241m+\u001b[39m\u001b[38;5;241m=\u001b[39m \u001b[38;5;241m1\u001b[39m\n\u001b[1;32m-> 1847\u001b[0m res \u001b[38;5;241m=\u001b[39m \u001b[43mfunc\u001b[49m\u001b[43m(\u001b[49m\u001b[38;5;241;43m*\u001b[39;49m\u001b[43margs\u001b[49m\u001b[43m,\u001b[49m\u001b[43m \u001b[49m\u001b[38;5;241;43m*\u001b[39;49m\u001b[38;5;241;43m*\u001b[39;49m\u001b[43mkwargs\u001b[49m\u001b[43m)\u001b[49m\n\u001b[0;32m   1848\u001b[0m \u001b[38;5;28mself\u001b[39m\u001b[38;5;241m.\u001b[39mn_completed_tasks \u001b[38;5;241m+\u001b[39m\u001b[38;5;241m=\u001b[39m \u001b[38;5;241m1\u001b[39m\n\u001b[0;32m   1849\u001b[0m \u001b[38;5;28mself\u001b[39m\u001b[38;5;241m.\u001b[39mprint_progress()\n",
      "File \u001b[1;32mc:\\Users\\rapha\\AppData\\Local\\Programs\\Python\\Python312\\Lib\\site-packages\\sklearn\\utils\\parallel.py:136\u001b[0m, in \u001b[0;36m_FuncWrapper.__call__\u001b[1;34m(self, *args, **kwargs)\u001b[0m\n\u001b[0;32m    134\u001b[0m     config \u001b[38;5;241m=\u001b[39m {}\n\u001b[0;32m    135\u001b[0m \u001b[38;5;28;01mwith\u001b[39;00m config_context(\u001b[38;5;241m*\u001b[39m\u001b[38;5;241m*\u001b[39mconfig):\n\u001b[1;32m--> 136\u001b[0m     \u001b[38;5;28;01mreturn\u001b[39;00m \u001b[38;5;28;43mself\u001b[39;49m\u001b[38;5;241;43m.\u001b[39;49m\u001b[43mfunction\u001b[49m\u001b[43m(\u001b[49m\u001b[38;5;241;43m*\u001b[39;49m\u001b[43margs\u001b[49m\u001b[43m,\u001b[49m\u001b[43m \u001b[49m\u001b[38;5;241;43m*\u001b[39;49m\u001b[38;5;241;43m*\u001b[39;49m\u001b[43mkwargs\u001b[49m\u001b[43m)\u001b[49m\n",
      "File \u001b[1;32mc:\\Users\\rapha\\AppData\\Local\\Programs\\Python\\Python312\\Lib\\site-packages\\sklearn\\model_selection\\_validation.py:888\u001b[0m, in \u001b[0;36m_fit_and_score\u001b[1;34m(estimator, X, y, scorer, train, test, verbose, parameters, fit_params, score_params, return_train_score, return_parameters, return_n_test_samples, return_times, return_estimator, split_progress, candidate_progress, error_score)\u001b[0m\n\u001b[0;32m    886\u001b[0m         estimator\u001b[38;5;241m.\u001b[39mfit(X_train, \u001b[38;5;241m*\u001b[39m\u001b[38;5;241m*\u001b[39mfit_params)\n\u001b[0;32m    887\u001b[0m     \u001b[38;5;28;01melse\u001b[39;00m:\n\u001b[1;32m--> 888\u001b[0m         \u001b[43mestimator\u001b[49m\u001b[38;5;241;43m.\u001b[39;49m\u001b[43mfit\u001b[49m\u001b[43m(\u001b[49m\u001b[43mX_train\u001b[49m\u001b[43m,\u001b[49m\u001b[43m \u001b[49m\u001b[43my_train\u001b[49m\u001b[43m,\u001b[49m\u001b[43m \u001b[49m\u001b[38;5;241;43m*\u001b[39;49m\u001b[38;5;241;43m*\u001b[39;49m\u001b[43mfit_params\u001b[49m\u001b[43m)\u001b[49m\n\u001b[0;32m    890\u001b[0m \u001b[38;5;28;01mexcept\u001b[39;00m \u001b[38;5;167;01mException\u001b[39;00m:\n\u001b[0;32m    891\u001b[0m     \u001b[38;5;66;03m# Note fit time as time until error\u001b[39;00m\n\u001b[0;32m    892\u001b[0m     fit_time \u001b[38;5;241m=\u001b[39m time\u001b[38;5;241m.\u001b[39mtime() \u001b[38;5;241m-\u001b[39m start_time\n",
      "File \u001b[1;32mc:\\Users\\rapha\\AppData\\Local\\Programs\\Python\\Python312\\Lib\\site-packages\\sklearn\\base.py:1473\u001b[0m, in \u001b[0;36m_fit_context.<locals>.decorator.<locals>.wrapper\u001b[1;34m(estimator, *args, **kwargs)\u001b[0m\n\u001b[0;32m   1466\u001b[0m     estimator\u001b[38;5;241m.\u001b[39m_validate_params()\n\u001b[0;32m   1468\u001b[0m \u001b[38;5;28;01mwith\u001b[39;00m config_context(\n\u001b[0;32m   1469\u001b[0m     skip_parameter_validation\u001b[38;5;241m=\u001b[39m(\n\u001b[0;32m   1470\u001b[0m         prefer_skip_nested_validation \u001b[38;5;129;01mor\u001b[39;00m global_skip_validation\n\u001b[0;32m   1471\u001b[0m     )\n\u001b[0;32m   1472\u001b[0m ):\n\u001b[1;32m-> 1473\u001b[0m     \u001b[38;5;28;01mreturn\u001b[39;00m \u001b[43mfit_method\u001b[49m\u001b[43m(\u001b[49m\u001b[43mestimator\u001b[49m\u001b[43m,\u001b[49m\u001b[43m \u001b[49m\u001b[38;5;241;43m*\u001b[39;49m\u001b[43margs\u001b[49m\u001b[43m,\u001b[49m\u001b[43m \u001b[49m\u001b[38;5;241;43m*\u001b[39;49m\u001b[38;5;241;43m*\u001b[39;49m\u001b[43mkwargs\u001b[49m\u001b[43m)\u001b[49m\n",
      "File \u001b[1;32mc:\\Users\\rapha\\AppData\\Local\\Programs\\Python\\Python312\\Lib\\site-packages\\sklearn\\ensemble\\_forest.py:489\u001b[0m, in \u001b[0;36mBaseForest.fit\u001b[1;34m(self, X, y, sample_weight)\u001b[0m\n\u001b[0;32m    478\u001b[0m trees \u001b[38;5;241m=\u001b[39m [\n\u001b[0;32m    479\u001b[0m     \u001b[38;5;28mself\u001b[39m\u001b[38;5;241m.\u001b[39m_make_estimator(append\u001b[38;5;241m=\u001b[39m\u001b[38;5;28;01mFalse\u001b[39;00m, random_state\u001b[38;5;241m=\u001b[39mrandom_state)\n\u001b[0;32m    480\u001b[0m     \u001b[38;5;28;01mfor\u001b[39;00m i \u001b[38;5;129;01min\u001b[39;00m \u001b[38;5;28mrange\u001b[39m(n_more_estimators)\n\u001b[0;32m    481\u001b[0m ]\n\u001b[0;32m    483\u001b[0m \u001b[38;5;66;03m# Parallel loop: we prefer the threading backend as the Cython code\u001b[39;00m\n\u001b[0;32m    484\u001b[0m \u001b[38;5;66;03m# for fitting the trees is internally releasing the Python GIL\u001b[39;00m\n\u001b[0;32m    485\u001b[0m \u001b[38;5;66;03m# making threading more efficient than multiprocessing in\u001b[39;00m\n\u001b[0;32m    486\u001b[0m \u001b[38;5;66;03m# that case. However, for joblib 0.12+ we respect any\u001b[39;00m\n\u001b[0;32m    487\u001b[0m \u001b[38;5;66;03m# parallel_backend contexts set at a higher level,\u001b[39;00m\n\u001b[0;32m    488\u001b[0m \u001b[38;5;66;03m# since correctness does not rely on using threads.\u001b[39;00m\n\u001b[1;32m--> 489\u001b[0m trees \u001b[38;5;241m=\u001b[39m \u001b[43mParallel\u001b[49m\u001b[43m(\u001b[49m\n\u001b[0;32m    490\u001b[0m \u001b[43m    \u001b[49m\u001b[43mn_jobs\u001b[49m\u001b[38;5;241;43m=\u001b[39;49m\u001b[38;5;28;43mself\u001b[39;49m\u001b[38;5;241;43m.\u001b[39;49m\u001b[43mn_jobs\u001b[49m\u001b[43m,\u001b[49m\n\u001b[0;32m    491\u001b[0m \u001b[43m    \u001b[49m\u001b[43mverbose\u001b[49m\u001b[38;5;241;43m=\u001b[39;49m\u001b[38;5;28;43mself\u001b[39;49m\u001b[38;5;241;43m.\u001b[39;49m\u001b[43mverbose\u001b[49m\u001b[43m,\u001b[49m\n\u001b[0;32m    492\u001b[0m \u001b[43m    \u001b[49m\u001b[43mprefer\u001b[49m\u001b[38;5;241;43m=\u001b[39;49m\u001b[38;5;124;43m\"\u001b[39;49m\u001b[38;5;124;43mthreads\u001b[39;49m\u001b[38;5;124;43m\"\u001b[39;49m\u001b[43m,\u001b[49m\n\u001b[0;32m    493\u001b[0m \u001b[43m\u001b[49m\u001b[43m)\u001b[49m\u001b[43m(\u001b[49m\n\u001b[0;32m    494\u001b[0m \u001b[43m    \u001b[49m\u001b[43mdelayed\u001b[49m\u001b[43m(\u001b[49m\u001b[43m_parallel_build_trees\u001b[49m\u001b[43m)\u001b[49m\u001b[43m(\u001b[49m\n\u001b[0;32m    495\u001b[0m \u001b[43m        \u001b[49m\u001b[43mt\u001b[49m\u001b[43m,\u001b[49m\n\u001b[0;32m    496\u001b[0m \u001b[43m        \u001b[49m\u001b[38;5;28;43mself\u001b[39;49m\u001b[38;5;241;43m.\u001b[39;49m\u001b[43mbootstrap\u001b[49m\u001b[43m,\u001b[49m\n\u001b[0;32m    497\u001b[0m \u001b[43m        \u001b[49m\u001b[43mX\u001b[49m\u001b[43m,\u001b[49m\n\u001b[0;32m    498\u001b[0m \u001b[43m        \u001b[49m\u001b[43my\u001b[49m\u001b[43m,\u001b[49m\n\u001b[0;32m    499\u001b[0m \u001b[43m        \u001b[49m\u001b[43msample_weight\u001b[49m\u001b[43m,\u001b[49m\n\u001b[0;32m    500\u001b[0m \u001b[43m        \u001b[49m\u001b[43mi\u001b[49m\u001b[43m,\u001b[49m\n\u001b[0;32m    501\u001b[0m \u001b[43m        \u001b[49m\u001b[38;5;28;43mlen\u001b[39;49m\u001b[43m(\u001b[49m\u001b[43mtrees\u001b[49m\u001b[43m)\u001b[49m\u001b[43m,\u001b[49m\n\u001b[0;32m    502\u001b[0m \u001b[43m        \u001b[49m\u001b[43mverbose\u001b[49m\u001b[38;5;241;43m=\u001b[39;49m\u001b[38;5;28;43mself\u001b[39;49m\u001b[38;5;241;43m.\u001b[39;49m\u001b[43mverbose\u001b[49m\u001b[43m,\u001b[49m\n\u001b[0;32m    503\u001b[0m \u001b[43m        \u001b[49m\u001b[43mclass_weight\u001b[49m\u001b[38;5;241;43m=\u001b[39;49m\u001b[38;5;28;43mself\u001b[39;49m\u001b[38;5;241;43m.\u001b[39;49m\u001b[43mclass_weight\u001b[49m\u001b[43m,\u001b[49m\n\u001b[0;32m    504\u001b[0m \u001b[43m        \u001b[49m\u001b[43mn_samples_bootstrap\u001b[49m\u001b[38;5;241;43m=\u001b[39;49m\u001b[43mn_samples_bootstrap\u001b[49m\u001b[43m,\u001b[49m\n\u001b[0;32m    505\u001b[0m \u001b[43m        \u001b[49m\u001b[43mmissing_values_in_feature_mask\u001b[49m\u001b[38;5;241;43m=\u001b[39;49m\u001b[43mmissing_values_in_feature_mask\u001b[49m\u001b[43m,\u001b[49m\n\u001b[0;32m    506\u001b[0m \u001b[43m    \u001b[49m\u001b[43m)\u001b[49m\n\u001b[0;32m    507\u001b[0m \u001b[43m    \u001b[49m\u001b[38;5;28;43;01mfor\u001b[39;49;00m\u001b[43m \u001b[49m\u001b[43mi\u001b[49m\u001b[43m,\u001b[49m\u001b[43m \u001b[49m\u001b[43mt\u001b[49m\u001b[43m \u001b[49m\u001b[38;5;129;43;01min\u001b[39;49;00m\u001b[43m \u001b[49m\u001b[38;5;28;43menumerate\u001b[39;49m\u001b[43m(\u001b[49m\u001b[43mtrees\u001b[49m\u001b[43m)\u001b[49m\n\u001b[0;32m    508\u001b[0m \u001b[43m\u001b[49m\u001b[43m)\u001b[49m\n\u001b[0;32m    510\u001b[0m \u001b[38;5;66;03m# Collect newly grown trees\u001b[39;00m\n\u001b[0;32m    511\u001b[0m \u001b[38;5;28mself\u001b[39m\u001b[38;5;241m.\u001b[39mestimators_\u001b[38;5;241m.\u001b[39mextend(trees)\n",
      "File \u001b[1;32mc:\\Users\\rapha\\AppData\\Local\\Programs\\Python\\Python312\\Lib\\site-packages\\sklearn\\utils\\parallel.py:74\u001b[0m, in \u001b[0;36mParallel.__call__\u001b[1;34m(self, iterable)\u001b[0m\n\u001b[0;32m     69\u001b[0m config \u001b[38;5;241m=\u001b[39m get_config()\n\u001b[0;32m     70\u001b[0m iterable_with_config \u001b[38;5;241m=\u001b[39m (\n\u001b[0;32m     71\u001b[0m     (_with_config(delayed_func, config), args, kwargs)\n\u001b[0;32m     72\u001b[0m     \u001b[38;5;28;01mfor\u001b[39;00m delayed_func, args, kwargs \u001b[38;5;129;01min\u001b[39;00m iterable\n\u001b[0;32m     73\u001b[0m )\n\u001b[1;32m---> 74\u001b[0m \u001b[38;5;28;01mreturn\u001b[39;00m \u001b[38;5;28;43msuper\u001b[39;49m\u001b[43m(\u001b[49m\u001b[43m)\u001b[49m\u001b[38;5;241;43m.\u001b[39;49m\u001b[38;5;21;43m__call__\u001b[39;49m\u001b[43m(\u001b[49m\u001b[43miterable_with_config\u001b[49m\u001b[43m)\u001b[49m\n",
      "File \u001b[1;32mc:\\Users\\rapha\\AppData\\Local\\Programs\\Python\\Python312\\Lib\\site-packages\\joblib\\parallel.py:1918\u001b[0m, in \u001b[0;36mParallel.__call__\u001b[1;34m(self, iterable)\u001b[0m\n\u001b[0;32m   1916\u001b[0m     output \u001b[38;5;241m=\u001b[39m \u001b[38;5;28mself\u001b[39m\u001b[38;5;241m.\u001b[39m_get_sequential_output(iterable)\n\u001b[0;32m   1917\u001b[0m     \u001b[38;5;28mnext\u001b[39m(output)\n\u001b[1;32m-> 1918\u001b[0m     \u001b[38;5;28;01mreturn\u001b[39;00m output \u001b[38;5;28;01mif\u001b[39;00m \u001b[38;5;28mself\u001b[39m\u001b[38;5;241m.\u001b[39mreturn_generator \u001b[38;5;28;01melse\u001b[39;00m \u001b[38;5;28;43mlist\u001b[39;49m\u001b[43m(\u001b[49m\u001b[43moutput\u001b[49m\u001b[43m)\u001b[49m\n\u001b[0;32m   1920\u001b[0m \u001b[38;5;66;03m# Let's create an ID that uniquely identifies the current call. If the\u001b[39;00m\n\u001b[0;32m   1921\u001b[0m \u001b[38;5;66;03m# call is interrupted early and that the same instance is immediately\u001b[39;00m\n\u001b[0;32m   1922\u001b[0m \u001b[38;5;66;03m# re-used, this id will be used to prevent workers that were\u001b[39;00m\n\u001b[0;32m   1923\u001b[0m \u001b[38;5;66;03m# concurrently finalizing a task from the previous call to run the\u001b[39;00m\n\u001b[0;32m   1924\u001b[0m \u001b[38;5;66;03m# callback.\u001b[39;00m\n\u001b[0;32m   1925\u001b[0m \u001b[38;5;28;01mwith\u001b[39;00m \u001b[38;5;28mself\u001b[39m\u001b[38;5;241m.\u001b[39m_lock:\n",
      "File \u001b[1;32mc:\\Users\\rapha\\AppData\\Local\\Programs\\Python\\Python312\\Lib\\site-packages\\joblib\\parallel.py:1847\u001b[0m, in \u001b[0;36mParallel._get_sequential_output\u001b[1;34m(self, iterable)\u001b[0m\n\u001b[0;32m   1845\u001b[0m \u001b[38;5;28mself\u001b[39m\u001b[38;5;241m.\u001b[39mn_dispatched_batches \u001b[38;5;241m+\u001b[39m\u001b[38;5;241m=\u001b[39m \u001b[38;5;241m1\u001b[39m\n\u001b[0;32m   1846\u001b[0m \u001b[38;5;28mself\u001b[39m\u001b[38;5;241m.\u001b[39mn_dispatched_tasks \u001b[38;5;241m+\u001b[39m\u001b[38;5;241m=\u001b[39m \u001b[38;5;241m1\u001b[39m\n\u001b[1;32m-> 1847\u001b[0m res \u001b[38;5;241m=\u001b[39m \u001b[43mfunc\u001b[49m\u001b[43m(\u001b[49m\u001b[38;5;241;43m*\u001b[39;49m\u001b[43margs\u001b[49m\u001b[43m,\u001b[49m\u001b[43m \u001b[49m\u001b[38;5;241;43m*\u001b[39;49m\u001b[38;5;241;43m*\u001b[39;49m\u001b[43mkwargs\u001b[49m\u001b[43m)\u001b[49m\n\u001b[0;32m   1848\u001b[0m \u001b[38;5;28mself\u001b[39m\u001b[38;5;241m.\u001b[39mn_completed_tasks \u001b[38;5;241m+\u001b[39m\u001b[38;5;241m=\u001b[39m \u001b[38;5;241m1\u001b[39m\n\u001b[0;32m   1849\u001b[0m \u001b[38;5;28mself\u001b[39m\u001b[38;5;241m.\u001b[39mprint_progress()\n",
      "File \u001b[1;32mc:\\Users\\rapha\\AppData\\Local\\Programs\\Python\\Python312\\Lib\\site-packages\\sklearn\\utils\\parallel.py:136\u001b[0m, in \u001b[0;36m_FuncWrapper.__call__\u001b[1;34m(self, *args, **kwargs)\u001b[0m\n\u001b[0;32m    134\u001b[0m     config \u001b[38;5;241m=\u001b[39m {}\n\u001b[0;32m    135\u001b[0m \u001b[38;5;28;01mwith\u001b[39;00m config_context(\u001b[38;5;241m*\u001b[39m\u001b[38;5;241m*\u001b[39mconfig):\n\u001b[1;32m--> 136\u001b[0m     \u001b[38;5;28;01mreturn\u001b[39;00m \u001b[38;5;28;43mself\u001b[39;49m\u001b[38;5;241;43m.\u001b[39;49m\u001b[43mfunction\u001b[49m\u001b[43m(\u001b[49m\u001b[38;5;241;43m*\u001b[39;49m\u001b[43margs\u001b[49m\u001b[43m,\u001b[49m\u001b[43m \u001b[49m\u001b[38;5;241;43m*\u001b[39;49m\u001b[38;5;241;43m*\u001b[39;49m\u001b[43mkwargs\u001b[49m\u001b[43m)\u001b[49m\n",
      "File \u001b[1;32mc:\\Users\\rapha\\AppData\\Local\\Programs\\Python\\Python312\\Lib\\site-packages\\sklearn\\ensemble\\_forest.py:192\u001b[0m, in \u001b[0;36m_parallel_build_trees\u001b[1;34m(tree, bootstrap, X, y, sample_weight, tree_idx, n_trees, verbose, class_weight, n_samples_bootstrap, missing_values_in_feature_mask)\u001b[0m\n\u001b[0;32m    189\u001b[0m     \u001b[38;5;28;01melif\u001b[39;00m class_weight \u001b[38;5;241m==\u001b[39m \u001b[38;5;124m\"\u001b[39m\u001b[38;5;124mbalanced_subsample\u001b[39m\u001b[38;5;124m\"\u001b[39m:\n\u001b[0;32m    190\u001b[0m         curr_sample_weight \u001b[38;5;241m*\u001b[39m\u001b[38;5;241m=\u001b[39m compute_sample_weight(\u001b[38;5;124m\"\u001b[39m\u001b[38;5;124mbalanced\u001b[39m\u001b[38;5;124m\"\u001b[39m, y, indices\u001b[38;5;241m=\u001b[39mindices)\n\u001b[1;32m--> 192\u001b[0m     \u001b[43mtree\u001b[49m\u001b[38;5;241;43m.\u001b[39;49m\u001b[43m_fit\u001b[49m\u001b[43m(\u001b[49m\n\u001b[0;32m    193\u001b[0m \u001b[43m        \u001b[49m\u001b[43mX\u001b[49m\u001b[43m,\u001b[49m\n\u001b[0;32m    194\u001b[0m \u001b[43m        \u001b[49m\u001b[43my\u001b[49m\u001b[43m,\u001b[49m\n\u001b[0;32m    195\u001b[0m \u001b[43m        \u001b[49m\u001b[43msample_weight\u001b[49m\u001b[38;5;241;43m=\u001b[39;49m\u001b[43mcurr_sample_weight\u001b[49m\u001b[43m,\u001b[49m\n\u001b[0;32m    196\u001b[0m \u001b[43m        \u001b[49m\u001b[43mcheck_input\u001b[49m\u001b[38;5;241;43m=\u001b[39;49m\u001b[38;5;28;43;01mFalse\u001b[39;49;00m\u001b[43m,\u001b[49m\n\u001b[0;32m    197\u001b[0m \u001b[43m        \u001b[49m\u001b[43mmissing_values_in_feature_mask\u001b[49m\u001b[38;5;241;43m=\u001b[39;49m\u001b[43mmissing_values_in_feature_mask\u001b[49m\u001b[43m,\u001b[49m\n\u001b[0;32m    198\u001b[0m \u001b[43m    \u001b[49m\u001b[43m)\u001b[49m\n\u001b[0;32m    199\u001b[0m \u001b[38;5;28;01melse\u001b[39;00m:\n\u001b[0;32m    200\u001b[0m     tree\u001b[38;5;241m.\u001b[39m_fit(\n\u001b[0;32m    201\u001b[0m         X,\n\u001b[0;32m    202\u001b[0m         y,\n\u001b[1;32m   (...)\u001b[0m\n\u001b[0;32m    205\u001b[0m         missing_values_in_feature_mask\u001b[38;5;241m=\u001b[39mmissing_values_in_feature_mask,\n\u001b[0;32m    206\u001b[0m     )\n",
      "File \u001b[1;32mc:\\Users\\rapha\\AppData\\Local\\Programs\\Python\\Python312\\Lib\\site-packages\\sklearn\\tree\\_classes.py:472\u001b[0m, in \u001b[0;36mBaseDecisionTree._fit\u001b[1;34m(self, X, y, sample_weight, check_input, missing_values_in_feature_mask)\u001b[0m\n\u001b[0;32m    461\u001b[0m \u001b[38;5;28;01melse\u001b[39;00m:\n\u001b[0;32m    462\u001b[0m     builder \u001b[38;5;241m=\u001b[39m BestFirstTreeBuilder(\n\u001b[0;32m    463\u001b[0m         splitter,\n\u001b[0;32m    464\u001b[0m         min_samples_split,\n\u001b[1;32m   (...)\u001b[0m\n\u001b[0;32m    469\u001b[0m         \u001b[38;5;28mself\u001b[39m\u001b[38;5;241m.\u001b[39mmin_impurity_decrease,\n\u001b[0;32m    470\u001b[0m     )\n\u001b[1;32m--> 472\u001b[0m \u001b[43mbuilder\u001b[49m\u001b[38;5;241;43m.\u001b[39;49m\u001b[43mbuild\u001b[49m\u001b[43m(\u001b[49m\u001b[38;5;28;43mself\u001b[39;49m\u001b[38;5;241;43m.\u001b[39;49m\u001b[43mtree_\u001b[49m\u001b[43m,\u001b[49m\u001b[43m \u001b[49m\u001b[43mX\u001b[49m\u001b[43m,\u001b[49m\u001b[43m \u001b[49m\u001b[43my\u001b[49m\u001b[43m,\u001b[49m\u001b[43m \u001b[49m\u001b[43msample_weight\u001b[49m\u001b[43m,\u001b[49m\u001b[43m \u001b[49m\u001b[43mmissing_values_in_feature_mask\u001b[49m\u001b[43m)\u001b[49m\n\u001b[0;32m    474\u001b[0m \u001b[38;5;28;01mif\u001b[39;00m \u001b[38;5;28mself\u001b[39m\u001b[38;5;241m.\u001b[39mn_outputs_ \u001b[38;5;241m==\u001b[39m \u001b[38;5;241m1\u001b[39m \u001b[38;5;129;01mand\u001b[39;00m is_classifier(\u001b[38;5;28mself\u001b[39m):\n\u001b[0;32m    475\u001b[0m     \u001b[38;5;28mself\u001b[39m\u001b[38;5;241m.\u001b[39mn_classes_ \u001b[38;5;241m=\u001b[39m \u001b[38;5;28mself\u001b[39m\u001b[38;5;241m.\u001b[39mn_classes_[\u001b[38;5;241m0\u001b[39m]\n",
      "\u001b[1;31mKeyboardInterrupt\u001b[0m: "
     ]
    }
   ],
   "source": [
    "iList = []\n",
    "\n",
    "dim_in_obj = []\n",
    "score_OptimisationNumOnly = []\n",
    "score_OptimisationOneHot= []\n",
    "score_Optimisation_sans_mca_sans_pca = []\n",
    "score_Optimisation_avec_mca_sans_pca = []\n",
    "score_Optimisation_avec_mca_avec_pca = []\n",
    "\n",
    "for i in range(1, obj_features.shape[1]) :\n",
    "    \n",
    "    iList.append(i)\n",
    "    \n",
    "    # # Seulement les variables numériques\n",
    "    # X_temp, Y_temp = OptimisationNumOny(target)\n",
    "    # df_temp = PerfDesModeles(X_temp, Y_temp, metrique_num=True, graph_affich=False)\n",
    "    # df_temp = best_model(df_temp)\n",
    "    # score_OptimisationNumOnly.append(df_temp[\"R2 Score\"].mean())\n",
    "    \n",
    "    # Seulement les variables catégorielles OneHot encodé\n",
    "    X_temp, Y_temp = OptimisationOneHot(i, target)\n",
    "    df_temp = PerfDesModeles2(X_temp, Y_temp, metrique_num=True, graph_affich=False)\n",
    "    df_temp = best_model2(df_temp)\n",
    "    score_OptimisationOneHot.append(df_temp[\"neg_mean_absolute_percentage_error score\"].mean())\n"
   ]
  },
  {
   "cell_type": "code",
   "execution_count": 55,
   "metadata": {},
   "outputs": [
    {
     "name": "stdout",
     "output_type": "stream",
     "text": [
      "score_OptimisationOneHot : [0.35657952111253327, 0.4994463874590186, 0.5405710788174556, 0.5512713426263078, 0.5831922912572123, 0.5808472499974978, 0.5793838670180287, 0.7047640788848226, 0.7132492426769739, 0.709070983974202, 0.8635152665481411, 0.8622976336318264]\n"
     ]
    },
    {
     "data": {
      "image/png": "[encoded data removed]",
      "text/plain": [
       "<Figure size 640x480 with 1 Axes>"
      ]
     },
     "metadata": {},
     "output_type": "display_data"
    }
   ],
   "source": [
    "print(\"score_OptimisationOneHot :\", score_OptimisationOneHot)\n",
    "\n",
    "plt.figure()\n",
    "plt.plot(iList, score_OptimisationOneHot)\n",
    "plt.grid()\n",
    "plt.show()"
   ]
  }
 ],
 "metadata": {
  "kernelspec": {
   "display_name": "Python 3",
   "language": "python",
   "name": "python3"
  },
  "language_info": {
   "codemirror_mode": {
    "name": "ipython",
    "version": 3
   },
   "file_extension": ".py",
   "mimetype": "text/x-python",
   "name": "python",
   "nbconvert_exporter": "python",
   "pygments_lexer": "ipython3",
   "version": "3.12.6"
  }
 },
 "nbformat": 4,
 "nbformat_minor": 2
}
